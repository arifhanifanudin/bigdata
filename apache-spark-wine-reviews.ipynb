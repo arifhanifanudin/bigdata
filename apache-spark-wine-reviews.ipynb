{
 "cells": [
  {
   "cell_type": "markdown",
   "metadata": {},
   "source": [
    "# Tugas Pengenalan Apache Spark \n",
    "\n",
    "##### Ilham Muhammad Misbahuddin\n",
    "##### 05111540000088\n",
    "\n",
    "## Kebutuhan :\n",
    "1. Operating System : Kali Linux 2019.1\n",
    "2. Apache Spark 2.3.3\n",
    "3. Scala 2.12.8\n",
    "4. Python 2.7.16\n",
    "5. PySpark 2.4.0\n",
    "6. Findspark 1.3.0\n",
    "7. Jupyter Notebook\n"
    "\n",
    "## Deskripsi Dataset\n",
    "* Nama Dataset : [Wine Reviews](https://www.kaggle.com/zynicide/wine-reviews)\n",
    "* Deskripsi : Here is a CSV version of the data I scraped. This dataset has three new fields\n\n--Title (which you can parse the vintage from), Taster Name, and Taster Twitter Handle. This should also fix the duplicate entries problem in the first version of the dataset and add ~25k unique reviews to play with.\n",
    "\n",
    "<table>\n",
    "    <thead>\n",
    "        <tr>\n",
    "            <th>Sumber Data</th>\n",
    "            <th>Jumlah Baris</th>\n",
    "            <th>Jumlah Colom</th>\n",
    "            <th>Ukuran</th>\n",
    "            <th>Format File</th>\n",
    "        </tr>\n",
    "    </thead>\n",
    "    <tbody>\n",
    "        <tr>\n",
    "            <td>winemag-data-130k-v2.csv</td>\n",
    "            <td>129975</td>\n",
    "            <td>14</td>\n",
    "            <td>52,9 MB</td>\n",
    "            <td>CSV</td>\n",
    "        </tr>\n",
    "    </tbody>\n",
    "</table>\n",
    "    \n"
   ]
  },
  {
   "cell_type": "markdown",
   "metadata": {},
   "source": [
    "## Inisialisasi Apache Spark"
   ]
  },
  {
   "cell_type": "code",
   "execution_count": 1,
   "metadata": {},
   "outputs": [],
   "source": [
    "# Import findspark to make pyspark importable as a regular library\n",
    "import findspark\n",
    "findspark.init('/usr/local/spark') "
   ]
  },
  {
   "cell_type": "code",
   "execution_count": 2,
   "metadata": {},
   "outputs": [],
   "source": [
    "# Import required python library\n",
    "from pyspark.sql import SparkSession\n",
    "from pyspark import SparkContext, SparkConf\n",
    "\n",
    "# Create Spark Session\n",
    "# The entry point to programming Spark with the Dataset \n",
    "spark = SparkSession.builder.appName(\"Wine Reviews\").getOrCreate()"
   ]
  },
  {
   "cell_type": "code",
   "execution_count": 3,
   "metadata": {},
   "outputs": [
    {
     "name": "stdout",
     "output_type": "stream",
     "text": [
      "<pyspark.sql.session.SparkSession object at 0x7fc66f2b68d0>\n"
     ]
    }
   ],
   "source": [
    "# Print spark object ID\n",
    "print(spark)"
   ]
  },
  {
   "cell_type": "markdown",
   "metadata": {},
   "source": [
    "## Load Dataset"
   ]
  },
  {
   "cell_type": "code",
   "execution_count": 4,
   "metadata": {},
   "outputs": [],
   "source": [
    "# Load the dataset\n",
    "df_w = spark.read.csv(\"/root/Lecture/BIGDATA/winemag-data-130k-v2.csv\", header=True, inferSchema=True)"
   ]
  },
  {
   "cell_type": "code",
   "execution_count": 5,
   "metadata": {},
   "outputs": [
    {
     "name": "stdout",
     "output_type": "stream",
     "text": [
      "+---+---------+--------------------+--------------------+------+-----+-----------------+-------------------+-----------------+------------------+---------------------+--------------------+------------------+-------------------+\n",
      "|_c0|  country|         description|         designation|points|price|         province|           region_1|         region_2|       taster_name|taster_twitter_handle|               title|           variety|             winery|\n",
      "+---+---------+--------------------+--------------------+------+-----+-----------------+-------------------+-----------------+------------------+---------------------+--------------------+------------------+-------------------+\n",
      "|  0|    Italy|Aromas include tr...|        Vulkà Bianco|    87| null|Sicily & Sardinia|               Etna|             null|     Kerin O’Keefe|         @kerinokeefe|Nicosia 2013 Vulk...|       White Blend|            Nicosia|\n",
      "|  1| Portugal|This is ripe and ...|            Avidagos|    87| 15.0|            Douro|               null|             null|        Roger Voss|           @vossroger|Quinta dos Avidag...|    Portuguese Red|Quinta dos Avidagos|\n",
      "|  2|       US|Tart and snappy, ...|                null|    87| 14.0|           Oregon|  Willamette Valley|Willamette Valley|      Paul Gregutt|          @paulgwine |Rainstorm 2013 Pi...|        Pinot Gris|          Rainstorm|\n",
      "|  3|       US|Pineapple rind, l...|Reserve Late Harvest|    87| 13.0|         Michigan|Lake Michigan Shore|             null|Alexander Peartree|                 null|St. Julian 2013 R...|          Riesling|         St. Julian|\n",
      "|  4|       US|Much like the reg...|Vintner's Reserve...|    87| 65.0|           Oregon|  Willamette Valley|Willamette Valley|      Paul Gregutt|          @paulgwine |Sweet Cheeks 2012...|        Pinot Noir|       Sweet Cheeks|\n",
      "|  5|    Spain|Blackberry and ra...|        Ars In Vitro|    87| 15.0|   Northern Spain|            Navarra|             null| Michael Schachner|          @wineschach|Tandem 2011 Ars I...|Tempranillo-Merlot|             Tandem|\n",
      "|  6|    Italy|Here's a bright, ...|             Belsito|    87| 16.0|Sicily & Sardinia|           Vittoria|             null|     Kerin O’Keefe|         @kerinokeefe|Terre di Giurfo 2...|          Frappato|    Terre di Giurfo|\n",
      "|  7|   France|This dry and rest...|                null|    87| 24.0|           Alsace|             Alsace|             null|        Roger Voss|           @vossroger|Trimbach 2012 Gew...|    Gewürztraminer|           Trimbach|\n",
      "|  8|  Germany|Savory dried thym...|               Shine|    87| 12.0|      Rheinhessen|               null|             null|Anna Lee C. Iijima|                 null|Heinz Eifel 2013 ...|    Gewürztraminer|        Heinz Eifel|\n",
      "|  9|   France|This has great de...|         Les Natures|    87| 27.0|           Alsace|             Alsace|             null|        Roger Voss|           @vossroger|Jean-Baptiste Ada...|        Pinot Gris| Jean-Baptiste Adam|\n",
      "| 10|       US|Soft, supple plum...|      Mountain Cuvée|    87| 19.0|       California|        Napa Valley|             Napa|    Virginie Boone|              @vboone|Kirkland Signatur...|Cabernet Sauvignon| Kirkland Signature|\n",
      "| 11|   France|This is a dry win...|                null|    87| 30.0|           Alsace|             Alsace|             null|        Roger Voss|           @vossroger|Leon Beyer 2012 G...|    Gewürztraminer|         Leon Beyer|\n",
      "| 12|       US|Slightly reduced,...|                null|    87| 34.0|       California|   Alexander Valley|           Sonoma|    Virginie Boone|              @vboone|Louis M. Martini ...|Cabernet Sauvignon|   Louis M. Martini|\n",
      "| 13|    Italy|This is dominated...|               Rosso|    87| null|Sicily & Sardinia|               Etna|             null|     Kerin O’Keefe|         @kerinokeefe|Masseria Settepor...| Nerello Mascalese|Masseria Setteporte|\n",
      "| 14|       US|Building on 150 y...|                null|    87| 12.0|       California|      Central Coast|    Central Coast|     Matt Kettmann|        @mattkettmann|Mirassou 2012 Cha...|        Chardonnay|           Mirassou|\n",
      "| 15|  Germany|Zesty orange peel...|               Devon|    87| 24.0|            Mosel|               null|             null|Anna Lee C. Iijima|                 null|Richard Böcking 2...|          Riesling|    Richard Böcking|\n",
      "| 16|Argentina|Baked plum, molas...|               Felix|    87| 30.0|            Other|           Cafayate|             null| Michael Schachner|          @wineschach|Felix Lavaque 201...|            Malbec|      Felix Lavaque|\n",
      "| 17|Argentina|Raw black-cherry ...| Winemaker Selection|    87| 13.0| Mendoza Province|            Mendoza|             null| Michael Schachner|          @wineschach|Gaucho Andino 201...|            Malbec|      Gaucho Andino|\n",
      "| 18|    Spain|Desiccated blackb...|Vendimia Seleccio...|    87| 28.0|   Northern Spain|   Ribera del Duero|             null| Michael Schachner|          @wineschach|Pradorey 2010 Ven...| Tempranillo Blend|           Pradorey|\n",
      "| 19|       US|Red fruit aromas ...|                null|    87| 32.0|         Virginia|           Virginia|             null|Alexander Peartree|                 null|Quiévremont 2012 ...|          Meritage|        Quiévremont|\n",
      "+---+---------+--------------------+--------------------+------+-----+-----------------+-------------------+-----------------+------------------+---------------------+--------------------+------------------+-------------------+\n",
      "only showing top 20 rows\n",
      "\n"
     ]
    }
   ],
   "source": [
    "# Print top 20 rows data\n",
    "df_w.show()"
   ]
  },
  {
   "cell_type": "code",
   "execution_count": 6,
   "metadata": {},
   "outputs": [
    {
     "data": {
      "text/plain": [
       "129975"
      ]
     },
     "execution_count": 6,
     "metadata": {},
     "output_type": "execute_result"
    }
   ],
   "source": [
    "# Count data rows\n",
    "df_w.count()"
   ]
  },
  {
   "cell_type": "code",
   "execution_count": 7,
   "metadata": {},
   "outputs": [
    {
     "name": "stdout",
     "output_type": "stream",
     "text": [
      "root\n",
      " |-- _c0: string (nullable = true)\n",
      " |-- country: string (nullable = true)\n",
      " |-- description: string (nullable = true)\n",
      " |-- designation: string (nullable = true)\n",
      " |-- points: string (nullable = true)\n",
      " |-- price: string (nullable = true)\n",
      " |-- province: string (nullable = true)\n",
      " |-- region_1: string (nullable = true)\n",
      " |-- region_2: string (nullable = true)\n",
      " |-- taster_name: string (nullable = true)\n",
      " |-- taster_twitter_handle: string (nullable = true)\n",
      " |-- title: string (nullable = true)\n",
      " |-- variety: string (nullable = true)\n",
      " |-- winery: string (nullable = true)\n",
      "\n"
     ]
    }
   ],
   "source": [
    "# inferSchema is used to inference the actual datatype of columns, especially for dates and timestamp\n",
    "df_w.printSchema()"
   ]
  },
  {
   "cell_type": "code",
   "execution_count": 8,
   "metadata": {},
   "outputs": [],
   "source": [
    "# Register the dataframe as a SQL temporary view\n",
    "df_w.createOrReplaceTempView(\"wine_reviews\")"
   ]
  },
  {
   "cell_type": "markdown",
   "metadata": {},
   "source": [
    "## Proses Data Mining"
   ]
  },
  {
   "cell_type": "markdown",
   "metadata": {},
   "source": [
    "### Jumlah Ulasan Anggur Tiap Negara"
   ]
  },
  {
   "cell_type": "code",
   "execution_count": 9,
   "metadata": {},
   "outputs": [
    {
     "name": "stdout",
     "output_type": "stream",
     "text": [
      "+--------------------+------+\n",
      "|             country|jumlah|\n",
      "+--------------------+------+\n",
      "|                  US| 54504|\n",
      "|              France| 22093|\n",
      "|               Italy| 19540|\n",
      "|               Spain|  6645|\n",
      "|            Portugal|  5691|\n",
      "|               Chile|  4472|\n",
      "|           Argentina|  3800|\n",
      "|             Austria|  3345|\n",
      "|           Australia|  2329|\n",
      "|             Germany|  2165|\n",
      "|         New Zealand|  1419|\n",
      "|        South Africa|  1401|\n",
      "|              Israel|   505|\n",
      "|              Greece|   466|\n",
      "|              Canada|   257|\n",
      "|             Hungary|   146|\n",
      "|            Bulgaria|   141|\n",
      "|             Romania|   120|\n",
      "|             Uruguay|   109|\n",
      "|              Turkey|    90|\n",
      "|            Slovenia|    87|\n",
      "|             Georgia|    86|\n",
      "|             England|    74|\n",
      "|             Croatia|    73|\n",
      "|              Mexico|    70|\n",
      "|                null|    63|\n",
      "|             Moldova|    59|\n",
      "|              Brazil|    52|\n",
      "|             Lebanon|    35|\n",
      "|             Morocco|    28|\n",
      "|                Peru|    16|\n",
      "|             Ukraine|    14|\n",
      "|      Czech Republic|    12|\n",
      "|              Serbia|    12|\n",
      "|           Macedonia|    12|\n",
      "|              Cyprus|    11|\n",
      "|               India|     9|\n",
      "|         Switzerland|     7|\n",
      "|          Luxembourg|     6|\n",
      "|Bosnia and Herzeg...|     2|\n",
      "+--------------------+------+\n",
      "only showing top 40 rows\n",
      "\n"
     ]
    }
   ],
   "source": [
    "result=spark.sql(\"SELECT `country`, COUNT(`_c0`) AS `jumlah` \\\n",
    "                  FROM wine_reviews \\\n",
    "                  GROUP BY `country` \\\n",
    "                  ORDER BY `jumlah` desc\")\n",
    "result.show(40)"
   ]
  },
  {
   "cell_type": "markdown",
   "metadata": {},
   "source": [
    "### Jumlah Orang yang Memberikan Ulasan Anggur dan Nilai NULL Tidak Dianggap"
   ]
  },
  {
   "cell_type": "code",
   "execution_count": 10,
   "metadata": {},
   "outputs": [
    {
     "name": "stdout",
     "output_type": "stream",
     "text": [
      "+------------------+---------------------+------+\n",
      "|       taster_name|taster_twitter_handle|jumlah|\n",
      "+------------------+---------------------+------+\n",
      "|        Roger Voss|           @vossroger| 25513|\n",
      "| Michael Schachner|          @wineschach| 15133|\n",
      "|     Kerin O’Keefe|         @kerinokeefe| 10776|\n",
      "|    Virginie Boone|              @vboone|  9537|\n",
      "|      Paul Gregutt|          @paulgwine |  9529|\n",
      "|     Matt Kettmann|        @mattkettmann|  6332|\n",
      "|    Joe Czerwinski|               @JoeCz|  5139|\n",
      "|  Sean P. Sullivan|        @wawinereport|  4966|\n",
      "|Anna Lee C. Iijima|                 null|  4415|\n",
      "|        Jim Gordon|     @gordone_cellars|  4177|\n",
      "|  Anne Krebiehl MW|          @AnneInVino|  3683|\n",
      "|     Lauren Buzzeo|            @laurbuzz|  1832|\n",
      "|   Susan Kostrzewa|        @suskostrzewa|  1085|\n",
      "|     Mike DeSimone|       @worldwineguys|   514|\n",
      "|      Jeff Jenssen|       @worldwineguys|   491|\n",
      "|Alexander Peartree|                 null|   415|\n",
      "|      Carrie Dykes|                 null|   139|\n",
      "|       Fiona Adams|             @bkfiona|    27|\n",
      "| Christina Pickard|      @winewchristina|     6|\n",
      "|                89|                 17.0|     2|\n",
      "+------------------+---------------------+------+\n",
      "only showing top 20 rows\n",
      "\n"
     ]
    }
   ],
   "source": [
    "result2 = spark.sql(\"SELECT `taster_name`, `taster_twitter_handle`, COUNT(`_c0`) AS `jumlah` \\\n",
    "                    FROM wine_reviews \\\n",
    "                    WHERE `taster_name` IS NOT NULL \\\n",
    "                    GROUP BY `taster_name`, `taster_twitter_handle` \\\n",
    "                    ORDER BY `jumlah` DESC\")\n",
    "result2.show()"
   ]
  },
  {
   "cell_type": "markdown",
   "metadata": {},
   "source": [
    "### Jumlah Ulasan Anggur Berdasarkan Jenis"
   ]
  },
  {
   "cell_type": "code",
   "execution_count": 11,
   "metadata": {},
   "outputs": [
    {
     "name": "stdout",
     "output_type": "stream",
     "text": [
      "+--------------------+------+\n",
      "|             variety|jumlah|\n",
      "+--------------------+------+\n",
      "|          Pinot Noir| 13270|\n",
      "|          Chardonnay| 11752|\n",
      "|  Cabernet Sauvignon|  9467|\n",
      "|           Red Blend|  8945|\n",
      "|Bordeaux-style Re...|  6914|\n",
      "|            Riesling|  5184|\n",
      "|     Sauvignon Blanc|  4965|\n",
      "|               Syrah|  4142|\n",
      "|                Rosé|  3563|\n",
      "|              Merlot|  3102|\n",
      "|            Nebbiolo|  2803|\n",
      "|           Zinfandel|  2714|\n",
      "|          Sangiovese|  2707|\n",
      "|              Malbec|  2652|\n",
      "|      Portuguese Red|  2466|\n",
      "|         White Blend|  2360|\n",
      "|     Sparkling Blend|  2153|\n",
      "|         Tempranillo|  1810|\n",
      "|Rhône-style Red B...|  1471|\n",
      "|          Pinot Gris|  1455|\n",
      "|     Champagne Blend|  1396|\n",
      "|      Cabernet Franc|  1353|\n",
      "|    Grüner Veltliner|  1344|\n",
      "|    Portuguese White|  1159|\n",
      "|Bordeaux-style Wh...|  1066|\n",
      "|        Pinot Grigio|  1049|\n",
      "|               Gamay|  1025|\n",
      "|      Gewürztraminer|  1012|\n",
      "|            Viognier|   996|\n",
      "|              Shiraz|   836|\n",
      "|        Petite Sirah|   770|\n",
      "|   Sangiovese Grosso|   751|\n",
      "|             Barbera|   721|\n",
      "|               Glera|   709|\n",
      "|                Port|   668|\n",
      "|            Grenache|   651|\n",
      "|Corvina, Rondinel...|   619|\n",
      "|        Chenin Blanc|   591|\n",
      "|   Tempranillo Blend|   588|\n",
      "|           Carmenère|   575|\n",
      "|            Albariño|   477|\n",
      "|         Pinot Blanc|   442|\n",
      "|Rhône-style White...|   425|\n",
      "|        Nero d'Avola|   365|\n",
      "|           Aglianico|   359|\n",
      "|             Moscato|   358|\n",
      "|            Garnacha|   326|\n",
      "|           Sauvignon|   316|\n",
      "|             Verdejo|   294|\n",
      "|               Melon|   280|\n",
      "+--------------------+------+\n",
      "only showing top 50 rows\n",
      "\n"
     ]
    }
   ],
   "source": [
    "result3=spark.sql(\"SELECT `variety`, COUNT(`_c0`) AS `jumlah` \\\n",
    "                  FROM wine_reviews GROUP BY `variety` ORDER BY `jumlah` desc\")\n",
    "result3.show(50)"
   ]
  },
  {
   "cell_type": "markdown",
   "metadata": {},
   "source": [
    "### Jumlah Ulasan Anggur pada Negara Amerika Serikat Berdasarkan Provinsi atau Negara Bagiannya"
   ]
  },
  {
   "cell_type": "code",
   "execution_count": 12,
   "metadata": {},
   "outputs": [
    {
     "name": "stdout",
     "output_type": "stream",
     "text": [
      "+-----------------+------+\n",
      "|         province|jumlah|\n",
      "+-----------------+------+\n",
      "|       California| 36239|\n",
      "|       Washington|  8638|\n",
      "|           Oregon|  5372|\n",
      "|         New York|  2686|\n",
      "|         Virginia|   777|\n",
      "|            Idaho|   192|\n",
      "|         Michigan|   114|\n",
      "|          America|    95|\n",
      "|            Texas|    94|\n",
      "|         Colorado|    68|\n",
      "|       New Mexico|    45|\n",
      "|          Arizona|    41|\n",
      "|         Missouri|    33|\n",
      "|   North Carolina|    23|\n",
      "|     Pennsylvania|    18|\n",
      "|             Ohio|    12|\n",
      "|       New Jersey|     8|\n",
      "|    Massachusetts|     7|\n",
      "|Washington-Oregon|     7|\n",
      "|         Illinois|     6|\n",
      "+-----------------+------+\n",
      "only showing top 20 rows\n",
      "\n"
     ]
    }
   ],
   "source": [
    "result4=spark.sql(\"SELECT `province`, COUNT(`_c0`) AS `jumlah` \\\n",
    "                  FROM wine_reviews \\\n",
    "                  WHERE `country` = 'US' \\\n",
    "                  GROUP BY `country` , `province` \\\n",
    "                  ORDER BY `jumlah` desc\")\n",
    "result4.show()"
   ]
  },
  {
   "cell_type": "markdown",
   "metadata": {},
   "source": [
    "## Referensi\n",
    "1. https://idroot.us/linux/install-apache-spark-ubuntu-18-04-lts/\n",
    "2. https://www.tutorialspoint.com/apache_spark/apache_spark_installation.htm\n",
    "3. https://jmedium.com/pyspark-in-python/\n"
   ]
  }
 ],
 "metadata": {
  "kernelspec": {
   "display_name": "Python 3",
   "language": "python",
   "name": "python3"
  },
  "language_info": {
   "codemirror_mode": {
    "name": "ipython",
    "version": 2
   },
   "file_extension": ".py",
   "mimetype": "text/x-python",
   "name": "python",
   "nbconvert_exporter": "python",
   "pygments_lexer": "ipython2",
   "version": "2.7.16rc1"
  }
 },
 "nbformat": 4,
 "nbformat_minor": 2
}
