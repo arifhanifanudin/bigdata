{
 "cells": [
  {
   "cell_type": "code",
   "execution_count": null,
   "metadata": {},
   "outputs": [],
   "source": [
    "# Tugas Pengenalan Apache Spark \n",
    "\n",
    "##### Ilham Muhammad Misbahuddin\n",
    "##### 05111540000088\n",
    "\n",
    "## Kebutuhan :\n",
    "1. Operating System : Kali Linux 2019.1\n",
    "2. Apache Spark 2.3.3\n",
    "3. Scala 2.12.8\n",
    "4. Python 2.7.16\n",
    "5. PySpark 2.4.0\n",
    "6. Findspark 1.3.0\n",
    "7. Jupyter Notebook\n",
    "\n",
    "## Deskripsi Dataset\n",
    "* Nama Dataset : [Wine Reviews](https://www.kaggle.com/zynicide/wine-reviews)\n",
    "* Deskripsi : Here is a CSV version of the data I scraped. This dataset has three new fields\n",
    "\n",
    "--Title (which you can parse the vintage from), Taster Name, and Taster Twitter Handle. This should also fix the duplicate entries problem in the first version of the dataset and add ~25k unique reviews to play with.\n",
    "\n",
    "<table>\n",
    "    <thead>\n",
    "        <tr>\n",
    "            <th>Sumber Data</th>\n",
    "            <th>Jumlah Baris</th>\n",
    "            <th>Jumlah Colom</th>\n",
    "            <th>Ukuran</th>\n",
    "            <th>Format File</th>\n",
    "        </tr>\n",
    "    </thead>\n",
    "    <tbody>\n",
    "        <tr>\n",
    "            <td>winemag-data-130k-v2.csv</td>\n",
    "            <td>129975</td>\n",
    "            <td>14</td>\n",
    "            <td>52,9 MB</td>\n",
    "            <td>CSV</td>\n",
    "        </tr>\n",
    "    </tbody>\n",
    "</table>\n",
    "    \n"
   ]
  },
  {
   "cell_type": "markdown",
   "metadata": {},
   "source": [
    "## Inisialisasi Apache Spark"
   ]
  },
  {
   "cell_type": "code",
   "execution_count": 1,
   "metadata": {},
   "outputs": [],
   "source": [
    "# Import findspark to make pyspark importable as a regular library\n",
    "import findspark\n",
    "findspark.init('/usr/local/spark')"
   ]
  },
  {
   "cell_type": "code",
   "execution_count": 2,
   "metadata": {},
   "outputs": [],
   "source": [
    "# Import required python library\n",
    "from pyspark.sql import SparkSession\n",
    "from pyspark import SparkContext, SparkConf\n",
    "\n",
    "# Create Spark Session\n",
    "# The entry point to programming Spark with the Dataset \n",
    "spark = SparkSession.builder.appName(\"Traffic Violations in Maryland County Clustering\").getOrCreate()"
   ]
  },
  {
   "cell_type": "code",
   "execution_count": 3,
   "metadata": {},
   "outputs": [
    {
     "name": "stdout",
     "output_type": "stream",
     "text": [
      "<pyspark.sql.session.SparkSession object at 0x7fd858752850>\n"
     ]
    }
   ],
   "source": [
    "# Print spark object ID\n",
    "print(spark)"
   ]
  },
  {
   "cell_type": "markdown",
   "metadata": {},
   "source": [
    "## Load Dataset"
   ]
  },
  {
   "cell_type": "code",
   "execution_count": 4,
   "metadata": {},
   "outputs": [],
   "source": [
    "# Load the dataset\n",
    "df = spark.read.csv(\"/root/Lecture/BIGDATA/Traffic_Violations.csv\", header=True, inferSchema=True)"
   ]
  },
  {
   "cell_type": "code",
   "execution_count": 5,
   "metadata": {
    "scrolled": true
   },
   "outputs": [
    {
     "name": "stdout",
     "output_type": "stream",
     "text": [
      "+------------+------------+------+--------------------+--------------------+--------------------+----------------+-----------------+--------+-----+---------------+---------------+-----+------------------+------+------------------+-------+---------+-----+---------------+----+-----------+--------+------+--------------+-------------+--------------------+-----------------------+--------+------+---------------+------------+--------+-----------------+--------------------+\n",
      "|Date Of Stop|Time Of Stop|Agency|           SubAgency|         Description|            Location|        Latitude|        Longitude|Accident|Belts|Personal Injury|Property Damage|Fatal|Commercial License|HAZMAT|Commercial Vehicle|Alcohol|Work Zone|State|    VehicleType|Year|       Make|   Model| Color|Violation Type|       Charge|             Article|Contributed To Accident|    Race|Gender|    Driver City|Driver State|DL State|      Arrest Type|         Geolocation|\n",
      "+------------+------------+------+--------------------+--------------------+--------------------+----------------+-----------------+--------+-----+---------------+---------------+-----+------------------+------+------------------+-------+---------+-----+---------------+----+-----------+--------+------+--------------+-------------+--------------------+-----------------------+--------+------+---------------+------------+--------+-----------------+--------------------+\n",
      "|  09/24/2013|    17:11:00|   MCP|3rd district, Sil...|DRIVING VEHICLE O...|     8804 FLOWER AVE|            null|             null|      No|   No|             No|             No|   No|                No|    No|                No|     No|       No|   MD|02 - Automobile|2008|       FORD|      4S| BLACK|      Citation|    13-401(h)|Transportation Ar...|                     No|   BLACK|     M|    TAKOMA PARK|          MD|      MD|A - Marked Patrol|                null|\n",
      "|  08/29/2017|    10:19:00|   MCP|2nd district, Bet...|DRIVER FAILURE TO...|WISCONSIN AVE@ EL...|       38.981725|-77.0927566666667|      No|   No|             No|             No|   No|                No|    No|                No|     No|       No|   VA|02 - Automobile|2001|     TOYOTA| COROLLA| GREEN|      Citation|   21-201(a1)|Transportation Ar...|                     No|   WHITE|     F|FAIRFAX STATION|          VA|      VA|A - Marked Patrol|(38.981725, -77.0...|\n",
      "|  12/01/2014|    12:52:00|   MCP|6th district, Gai...|FAILURE STOP AND ...|CHRISTOPHER AVE/M...|39.1628883333333|-77.2290883333333|      No|   No|             No|            Yes|   No|                No|    No|                No|     No|       No|   MD|02 - Automobile|2001|      HONDA|  ACCORD|SILVER|      Citation|    21-403(b)|Transportation Ar...|                     No|   BLACK|     F| UPPER MARLBORO|          MD|      MD|A - Marked Patrol|(39.1628883333333...|\n",
      "|  08/29/2017|    09:22:00|   MCP|3rd district, Sil...|FAILURE YIELD RIG...|CHERRY HILL RD./C...|       39.056975|-76.9546333333333|      No|   No|             No|            Yes|   No|                No|    No|                No|     No|       No|   MD|02 - Automobile|1998|       DODG|  DAKOTA| WHITE|      Citation|    21-402(b)|Transportation Ar...|                     No|   BLACK|     M|FORT WASHINGTON|          MD|      MD|A - Marked Patrol|(39.056975, -76.9...|\n",
      "|  08/28/2017|    23:41:00|   MCP|6th district, Gai...|FAILURE OF DR. TO...|355 @ SOUTH WESTL...|            null|             null|      No|   No|             No|             No|   No|                No|    No|                No|     No|       No|   MD|02 - Automobile|2015|MINI COOPER|      2S| WHITE|      Citation|   21-405(e1)|Transportation Ar...|                     No|   WHITE|     M|   GAITHERSBURG|          MD|      MD|A - Marked Patrol|                null|\n",
      "|  08/27/2013|    00:55:00|   MCP|2nd district, Bet...|NEGLIGENT DRIVING...|CONNECTICUT/CHEVY...|            null|             null|      No|   No|             No|             No|   No|                No|    No|                No|     No|       No|   MD|02 - Automobile|2013|    HYUNDAI| ELANTRA|  GRAY|      Citation|  21-901.1(b)|Transportation Ar...|                     No|   WHITE|     F|  SILVER SPRING|          MD|      MD|A - Marked Patrol|                null|\n",
      "|  10/08/2013|    13:23:00|   MCP|4th district, Whe...|DRIVING VEHICLE O...|GEORGIA AVE / BEL...|39.0933833333333|-77.0795516666667|      No|   No|             No|             No|   No|                No|    No|                No|     No|       No|   MD|02 - Automobile|1993|       FORD|  PICKUP| BLACK|      Citation|    13-401(h)|Transportation Ar...|                     No|HISPANIC|     M|     BELTSVILLE|          MD|      MD|A - Marked Patrol|(39.0933833333333...|\n",
      "|  04/24/2015|    00:38:00|   MCP|1st district, Roc...|DRIVER FAIL TO ST...|EB MONTROSE PKWY/...|            null|             null|      No|   No|             No|             No|   No|                No|    No|                No|     No|       No|   VA|02 - Automobile|2003|      DODGE|SPRINTER| WHITE|      Citation|    21-204(b)|Transportation Ar...|                     No|HISPANIC|     M|  SILVER SPRING|          MD|      MD|A - Marked Patrol|                null|\n",
      "|  08/28/2017|    23:41:00|   MCP|6th district, Gai...|FAILURE OF INDIVI...|355 @ SOUTH WESTL...|            null|             null|      No|   No|             No|             No|   No|                No|    No|                No|     No|       No|   MD|02 - Automobile|2015|MINI COOPER|      2S| WHITE|      Citation|    16-112(c)|Transportation Ar...|                     No|   WHITE|     M|   GAITHERSBURG|          MD|      MD|A - Marked Patrol|                null|\n",
      "|  08/28/2017|    23:41:00|   MCP|6th district, Gai...|DRIVING VEHICLE O...|355 @ SOUTH WESTL...|            null|             null|      No|   No|             No|             No|   No|                No|    No|                No|     No|       No|   MD|02 - Automobile|2015|MINI COOPER|      2S| WHITE|      Citation|    16-115(g)|Transportation Ar...|                     No|   WHITE|     M|   GAITHERSBURG|          MD|      MD|A - Marked Patrol|                null|\n",
      "|  02/14/2014|    20:10:00|   MCP|1st district, Roc...|FAILURE TO DRIVE ...|GATEWAY CENTER DR...|39.2348434333333|     -77.28153995|      No|   No|             No|             No|   No|                No|    No|                No|     No|       No|   MD|02 - Automobile|2005|       CADI|     STS| BLACK|      Citation|    21-311(1)|Transportation Ar...|                     No|   WHITE|     M|  POINT OF ROCK|          MD|      WV|A - Marked Patrol|(39.2348434333333...|\n",
      "|  03/19/2012|    16:10:00|   MCP|2nd district, Bet...|DRIVER USING HAND...|CLARENDON RD @ EL...|38.9827307333333|-77.1007551666667|      No|   No|             No|             No|   No|                No|    No|                No|     No|       No|   VA|02 - Automobile|1996|      HONDA|   CIVIC|SILVER|      Citation|21-1124.2(d2)|Transportation Ar...|                     No|HISPANIC|     M|      ARLINGTON|          VA|      VA|A - Marked Patrol|(38.9827307333333...|\n",
      "|  06/09/2012|    21:19:00|   MCP|3rd district, Sil...|OCCUPANT UNDER 16...|2068 HARLEQUIN TE...|     39.06914295|-76.9696780666667|      No|   No|             No|             No|   No|                No|    No|                No|     No|       No|   MD|02 - Automobile|2004|  CHEVROLET|  IMPALA|SILVER|      Citation|  22-412.3(b)|Transportation Ar...|                     No|   WHITE|     F|  SILVER SPRING|          MD|      MD|A - Marked Patrol|(39.06914295, -76...|\n",
      "|  12/20/2012|    00:41:00|   MCP|2nd district, Bet...|DRIVING WHILE IMP...|NORFOLK AVE /  ST...|      38.9835782|     -77.09310515|      No|   No|             No|             No|   No|                No|    No|                No|     No|       No|   MD|02 - Automobile|2005|       AUDI|      4S|  GRAY|      Citation|   21-902(b1)|Transportation Ar...|                     No|   WHITE|     M|        DERWOOD|          MD|      MD|A - Marked Patrol|(38.9835782, -77....|\n",
      "|  07/20/2012|    23:12:00|   MCP|5th district, Ger...|FAILURE TO STOP A...|WISTERIA DR @ WAR...|39.1618098166667|     -77.25358095|      No|   No|             No|             No|   No|                No|    No|                No|     No|       No|   MD|02 - Automobile|2002|       TOYT|      4S|   RED|      Citation|    21-707(a)|Transportation Ar...|                     No|   ASIAN|     F|     GERMANTOWN|          MD|      MD|A - Marked Patrol|(39.1618098166667...|\n",
      "|  09/11/2012|    21:47:00|   MCP|4th district, Whe...|PERSON DRIVING MO...|TWIG RD AT GOOD H...|     39.09619885|     -76.98696215|      No|  Yes|             No|             No|   No|                No|    No|                No|     No|       No|   MD|02 - Automobile|2009|      DODGE| CHARGER| BLACK|      Citation|    16-303(d)|Transportation Ar...|                     No|   BLACK|     M|  SILVER SPRING|          MD|      MD|A - Marked Patrol|(39.09619885, -76...|\n",
      "|  07/23/2013|    23:15:00|   MCP|4th district, Whe...|FAILURE TO ATTACH...|108 / OLD BALTIMO...|39.1516659166667|      -77.0706278|      No|   No|             No|             No|   No|                No|    No|                No|     No|       No|   MD|02 - Automobile|2000|     SATURN|      LS|SILVER|      Citation|    13-411(a)|Transportation Ar...|                     No|   BLACK|     F|     BELTSVILLE|          MD|      MD|A - Marked Patrol|(39.1516659166667...|\n",
      "|  10/28/2013|    17:41:00|   MCP|6th district, Gai...|DRIVER FAILURE TO...|EMORY GROVE RD @ ...|39.1299347666667|-77.1670501333333|      No|   No|             No|             No|   No|                No|    No|                No|     No|       No|   MD|02 - Automobile|2003|      HONDA|  ACCORD|  GOLD|      Citation|    21-404(b)|Transportation Ar...|                    Yes|   BLACK|     M|   GAITHERSBURG|          MD|      MD|A - Marked Patrol|(39.1299347666667...|\n",
      "|  08/28/2017|    23:41:00|   MCP|6th district, Gai...|PERSON DRIVING MO...|355 @ SOUTH WESTL...|            null|             null|      No|   No|             No|             No|   No|                No|    No|                No|     No|       No|   MD|02 - Automobile|2015|MINI COOPER|      2S| WHITE|      Citation|    16-303(c)|Transportation Ar...|                     No|   WHITE|     M|   GAITHERSBURG|          MD|      MD|A - Marked Patrol|                null|\n",
      "|  12/17/2015|    13:15:00|   MCP|5th district, Ger...|FAILURE TO RETURN...|19916 CRYSTAL ROC...|39.2227933333333|        -77.25369|      No|   No|             No|             No|   No|                No|    No|                No|     No|       No|   MD|02 - Automobile|2005|     TOYOTA|   CAMRY| BLACK|      Citation|    20-103(b)|Transportation Ar...|                     No|   BLACK|     M|      ROCKVILLE|          MD|      MD|A - Marked Patrol|(39.2227933333333...|\n",
      "+------------+------------+------+--------------------+--------------------+--------------------+----------------+-----------------+--------+-----+---------------+---------------+-----+------------------+------+------------------+-------+---------+-----+---------------+----+-----------+--------+------+--------------+-------------+--------------------+-----------------------+--------+------+---------------+------------+--------+-----------------+--------------------+\n",
      "only showing top 20 rows\n",
      "\n"
     ]
    }
   ],
   "source": [
    "# Print top 20 rows data\n",
    "df.show()"
   ]
  },
  {
   "cell_type": "code",
   "execution_count": 6,
   "metadata": {},
   "outputs": [
    {
     "data": {
      "text/plain": [
       "1293487"
      ]
     },
     "execution_count": 6,
     "metadata": {},
     "output_type": "execute_result"
    }
   ],
   "source": [
    "# Count data rows\n",
    "df.count()"
   ]
  },
  {
   "cell_type": "code",
   "execution_count": 7,
   "metadata": {},
   "outputs": [
    {
     "name": "stdout",
     "output_type": "stream",
     "text": [
      "root\n",
      " |-- Date Of Stop: string (nullable = true)\n",
      " |-- Time Of Stop: string (nullable = true)\n",
      " |-- Agency: string (nullable = true)\n",
      " |-- SubAgency: string (nullable = true)\n",
      " |-- Description: string (nullable = true)\n",
      " |-- Location: string (nullable = true)\n",
      " |-- Latitude: string (nullable = true)\n",
      " |-- Longitude: string (nullable = true)\n",
      " |-- Accident: string (nullable = true)\n",
      " |-- Belts: string (nullable = true)\n",
      " |-- Personal Injury: string (nullable = true)\n",
      " |-- Property Damage: string (nullable = true)\n",
      " |-- Fatal: string (nullable = true)\n",
      " |-- Commercial License: string (nullable = true)\n",
      " |-- HAZMAT: string (nullable = true)\n",
      " |-- Commercial Vehicle: string (nullable = true)\n",
      " |-- Alcohol: string (nullable = true)\n",
      " |-- Work Zone: string (nullable = true)\n",
      " |-- State: string (nullable = true)\n",
      " |-- VehicleType: string (nullable = true)\n",
      " |-- Year: string (nullable = true)\n",
      " |-- Make: string (nullable = true)\n",
      " |-- Model: string (nullable = true)\n",
      " |-- Color: string (nullable = true)\n",
      " |-- Violation Type: string (nullable = true)\n",
      " |-- Charge: string (nullable = true)\n",
      " |-- Article: string (nullable = true)\n",
      " |-- Contributed To Accident: string (nullable = true)\n",
      " |-- Race: string (nullable = true)\n",
      " |-- Gender: string (nullable = true)\n",
      " |-- Driver City: string (nullable = true)\n",
      " |-- Driver State: string (nullable = true)\n",
      " |-- DL State: string (nullable = true)\n",
      " |-- Arrest Type: string (nullable = true)\n",
      " |-- Geolocation: string (nullable = true)\n",
      "\n"
     ]
    }
   ],
   "source": [
    "# inferSchema is used to inference the actual datatype of columns, especially for dates and timestamp\n",
    "df.printSchema()"
   ]
  },
  {
   "cell_type": "markdown",
   "metadata": {},
   "source": [
    "## Clustering"
   ]
  },
  {
   "cell_type": "code",
   "execution_count": 8,
   "metadata": {},
   "outputs": [],
   "source": [
    "from pyspark.sql.functions import col"
   ]
  },
  {
   "cell_type": "code",
   "execution_count": 9,
   "metadata": {},
   "outputs": [],
   "source": [
    "# Convert the type of Latitude and Longitude values into float and remove null values\n",
    "df_preprocess = (df\n",
    "       .withColumn(\"Latitude\", col(\"Latitude\").cast(\"float\"))\n",
    "       .withColumn(\"Longitude\", col(\"Longitude\").cast(\"float\"))\n",
    "       .dropna()\n",
    "       )"
   ]
  },
  {
   "cell_type": "code",
   "execution_count": 10,
   "metadata": {},
   "outputs": [
    {
     "name": "stdout",
     "output_type": "stream",
     "text": [
      "root\n",
      " |-- Date Of Stop: string (nullable = true)\n",
      " |-- Time Of Stop: string (nullable = true)\n",
      " |-- Agency: string (nullable = true)\n",
      " |-- SubAgency: string (nullable = true)\n",
      " |-- Description: string (nullable = true)\n",
      " |-- Location: string (nullable = true)\n",
      " |-- Latitude: float (nullable = true)\n",
      " |-- Longitude: float (nullable = true)\n",
      " |-- Accident: string (nullable = true)\n",
      " |-- Belts: string (nullable = true)\n",
      " |-- Personal Injury: string (nullable = true)\n",
      " |-- Property Damage: string (nullable = true)\n",
      " |-- Fatal: string (nullable = true)\n",
      " |-- Commercial License: string (nullable = true)\n",
      " |-- HAZMAT: string (nullable = true)\n",
      " |-- Commercial Vehicle: string (nullable = true)\n",
      " |-- Alcohol: string (nullable = true)\n",
      " |-- Work Zone: string (nullable = true)\n",
      " |-- State: string (nullable = true)\n",
      " |-- VehicleType: string (nullable = true)\n",
      " |-- Year: string (nullable = true)\n",
      " |-- Make: string (nullable = true)\n",
      " |-- Model: string (nullable = true)\n",
      " |-- Color: string (nullable = true)\n",
      " |-- Violation Type: string (nullable = true)\n",
      " |-- Charge: string (nullable = true)\n",
      " |-- Article: string (nullable = true)\n",
      " |-- Contributed To Accident: string (nullable = true)\n",
      " |-- Race: string (nullable = true)\n",
      " |-- Gender: string (nullable = true)\n",
      " |-- Driver City: string (nullable = true)\n",
      " |-- Driver State: string (nullable = true)\n",
      " |-- DL State: string (nullable = true)\n",
      " |-- Arrest Type: string (nullable = true)\n",
      " |-- Geolocation: string (nullable = true)\n",
      "\n"
     ]
    }
   ],
   "source": [
    "df_preprocess.printSchema()"
   ]
  },
  {
   "cell_type": "code",
   "execution_count": 11,
   "metadata": {
    "scrolled": true
   },
   "outputs": [
    {
     "data": {
      "text/plain": [
       "1126191"
      ]
     },
     "execution_count": 11,
     "metadata": {},
     "output_type": "execute_result"
    }
   ],
   "source": [
    "df_preprocess.count()"
   ]
  },
  {
   "cell_type": "code",
   "execution_count": 12,
   "metadata": {},
   "outputs": [],
   "source": [
    "# Register the dataframe as a SQL temporary view\n",
    "df_preprocess.createOrReplaceTempView(\"traffic_violations\")"
   ]
  },
  {
   "cell_type": "code",
   "execution_count": 13,
   "metadata": {},
   "outputs": [],
   "source": [
    "# Retrieve the data needed:\n",
    "# - Latitude\n",
    "# - Longitude\n",
    "# - Personal Injury\n",
    "# - Property Damage\n",
    "\n",
    "data = spark.sql(\"SELECT `Latitude` as latitude, `Longitude` as longtitude, `Personal Injury`, `Property Damage`\\\n",
    "                  FROM traffic_violations\")"
   ]
  },
  {
   "cell_type": "code",
   "execution_count": 14,
   "metadata": {},
   "outputs": [
    {
     "name": "stdout",
     "output_type": "stream",
     "text": [
      "+---------+----------+---------------+---------------+\n",
      "| latitude|longtitude|Personal Injury|Property Damage|\n",
      "+---------+----------+---------------+---------------+\n",
      "|38.981724| -77.09276|             No|             No|\n",
      "|39.162888| -77.22909|             No|            Yes|\n",
      "|39.056976|-76.954636|             No|            Yes|\n",
      "|39.093384| -77.07955|             No|             No|\n",
      "|39.234844| -77.28154|             No|             No|\n",
      "| 38.98273| -77.10075|             No|             No|\n",
      "| 39.06914| -76.96968|             No|             No|\n",
      "|38.983578|  -77.0931|             No|             No|\n",
      "|39.161808| -77.25358|             No|             No|\n",
      "|  39.0962| -76.98696|             No|             No|\n",
      "|39.151665|-77.070625|             No|             No|\n",
      "|39.129936| -77.16705|             No|             No|\n",
      "|39.222794| -77.25369|             No|             No|\n",
      "|39.067535| -77.14941|             No|             No|\n",
      "|39.048206| -76.98472|             No|             No|\n",
      "| 39.12324|   -77.233|             No|             No|\n",
      "|39.030678|-77.005104|             No|             No|\n",
      "| 38.99928| -77.09701|             No|             No|\n",
      "| 39.12324|   -77.233|             No|             No|\n",
      "|38.983032| -77.09245|             No|             No|\n",
      "+---------+----------+---------------+---------------+\n",
      "only showing top 20 rows\n",
      "\n"
     ]
    }
   ],
   "source": [
    "data.show()"
   ]
  },
  {
   "cell_type": "code",
   "execution_count": 15,
   "metadata": {},
   "outputs": [
    {
     "data": {
      "text/plain": [
       "1126191"
      ]
     },
     "execution_count": 15,
     "metadata": {},
     "output_type": "execute_result"
    }
   ],
   "source": [
    "data.count()"
   ]
  },
  {
   "cell_type": "code",
   "execution_count": 16,
   "metadata": {},
   "outputs": [
    {
     "name": "stdout",
     "output_type": "stream",
     "text": [
      "+---------+----------+---------------+---------------+--------------------+\n",
      "| latitude|longtitude|Personal Injury|Property Damage|            features|\n",
      "+---------+----------+---------------+---------------+--------------------+\n",
      "|38.981724| -77.09276|             No|             No|[38.9817237854003...|\n",
      "|39.162888| -77.22909|             No|            Yes|[39.1628875732421...|\n",
      "|39.056976|-76.954636|             No|            Yes|[39.0569763183593...|\n",
      "|39.093384| -77.07955|             No|             No|[39.0933837890625...|\n",
      "|39.234844| -77.28154|             No|             No|[39.2348442077636...|\n",
      "| 38.98273| -77.10075|             No|             No|[38.9827308654785...|\n",
      "| 39.06914| -76.96968|             No|             No|[39.0691413879394...|\n",
      "|38.983578|  -77.0931|             No|             No|[38.9835777282714...|\n",
      "|39.161808| -77.25358|             No|             No|[39.1618080139160...|\n",
      "|  39.0962| -76.98696|             No|             No|[39.0961990356445...|\n",
      "|39.151665|-77.070625|             No|             No|[39.1516647338867...|\n",
      "|39.129936| -77.16705|             No|             No|[39.1299362182617...|\n",
      "|39.222794| -77.25369|             No|             No|[39.2227935791015...|\n",
      "|39.067535| -77.14941|             No|             No|[39.0675354003906...|\n",
      "|39.048206| -76.98472|             No|             No|[39.0482063293457...|\n",
      "| 39.12324|   -77.233|             No|             No|[39.1232414245605...|\n",
      "|39.030678|-77.005104|             No|             No|[39.0306777954101...|\n",
      "| 38.99928| -77.09701|             No|             No|[38.9992790222168...|\n",
      "| 39.12324|   -77.233|             No|             No|[39.1232414245605...|\n",
      "|38.983032| -77.09245|             No|             No|[38.9830322265625...|\n",
      "+---------+----------+---------------+---------------+--------------------+\n",
      "only showing top 20 rows\n",
      "\n"
     ]
    }
   ],
   "source": [
    "# Import VectorAssembler\n",
    "from pyspark.ml.feature import VectorAssembler\n",
    "\n",
    "vector_assembler = VectorAssembler(inputCols=[\"latitude\", \"longtitude\"], outputCol=\"features\")\n",
    "df_assembled = vector_assembler.transform(data)\n",
    "\n",
    "df_assembled.show()"
   ]
  },
  {
   "cell_type": "code",
   "execution_count": 17,
   "metadata": {},
   "outputs": [],
   "source": [
    "# Import KMeans\n",
    "from pyspark.ml.clustering import KMeans\n",
    "\n",
    "# Train a k-means model\n",
    "kmeans = KMeans().setK(3).setSeed(1)\n",
    "model = kmeans.fit(df_assembled.select('features'))"
   ]
  },
  {
   "cell_type": "code",
   "execution_count": 18,
   "metadata": {},
   "outputs": [
    {
     "name": "stdout",
     "output_type": "stream",
     "text": [
      "+---------+----------+---------------+---------------+--------------------+----------+\n",
      "| latitude|longtitude|Personal Injury|Property Damage|            features|prediction|\n",
      "+---------+----------+---------------+---------------+--------------------+----------+\n",
      "|38.981724| -77.09276|             No|             No|[38.9817237854003...|         0|\n",
      "|39.162888| -77.22909|             No|            Yes|[39.1628875732421...|         0|\n",
      "|39.056976|-76.954636|             No|            Yes|[39.0569763183593...|         0|\n",
      "|39.093384| -77.07955|             No|             No|[39.0933837890625...|         0|\n",
      "|39.234844| -77.28154|             No|             No|[39.2348442077636...|         0|\n",
      "| 38.98273| -77.10075|             No|             No|[38.9827308654785...|         0|\n",
      "| 39.06914| -76.96968|             No|             No|[39.0691413879394...|         0|\n",
      "|38.983578|  -77.0931|             No|             No|[38.9835777282714...|         0|\n",
      "|39.161808| -77.25358|             No|             No|[39.1618080139160...|         0|\n",
      "|  39.0962| -76.98696|             No|             No|[39.0961990356445...|         0|\n",
      "|39.151665|-77.070625|             No|             No|[39.1516647338867...|         0|\n",
      "|39.129936| -77.16705|             No|             No|[39.1299362182617...|         0|\n",
      "|39.222794| -77.25369|             No|             No|[39.2227935791015...|         0|\n",
      "|39.067535| -77.14941|             No|             No|[39.0675354003906...|         0|\n",
      "|39.048206| -76.98472|             No|             No|[39.0482063293457...|         0|\n",
      "| 39.12324|   -77.233|             No|             No|[39.1232414245605...|         0|\n",
      "|39.030678|-77.005104|             No|             No|[39.0306777954101...|         0|\n",
      "| 38.99928| -77.09701|             No|             No|[38.9992790222168...|         0|\n",
      "| 39.12324|   -77.233|             No|             No|[39.1232414245605...|         0|\n",
      "|38.983032| -77.09245|             No|             No|[38.9830322265625...|         0|\n",
      "+---------+----------+---------------+---------------+--------------------+----------+\n",
      "only showing top 20 rows\n",
      "\n"
     ]
    }
   ],
   "source": [
    "# Make predictions by transforming the initial dataframe\n",
    "transform = model.transform(df_assembled)\n",
    "\n",
    "transform.show()"
   ]
  },
  {
   "cell_type": "code",
   "execution_count": 19,
   "metadata": {},
   "outputs": [],
   "source": [
    "# Import ClusteringEvaluator\n",
    "from pyspark.ml.evaluation import ClusteringEvaluator\n",
    "\n",
    "# Evaluate clustering by computing Silhouette score\n",
    "evaluator = ClusteringEvaluator()\n",
    "silhouette = evaluator.evaluate(transform)"
   ]
  },
  {
   "cell_type": "code",
   "execution_count": 20,
   "metadata": {},
   "outputs": [
    {
     "name": "stdout",
     "output_type": "stream",
     "text": [
      "Silhouette with squared euclidean distance = 0.999995346055\n"
     ]
    }
   ],
   "source": [
    "# Print the Silhouette score\n",
    "print(\"Silhouette with squared euclidean distance = \" + str(silhouette))"
   ]
  },
  {
   "cell_type": "code",
   "execution_count": 21,
   "metadata": {},
   "outputs": [
    {
     "name": "stdout",
     "output_type": "stream",
     "text": [
      "Cluster Centers: \n",
      "[ 39.08283411 -77.11124616]\n",
      "[-91.72519021  38.85813823]\n",
      "[38.88524881 39.10242081]\n"
     ]
    }
   ],
   "source": [
    "centers = model.clusterCenters()\n",
    "\n",
    "print(\"Cluster Centers: \")\n",
    "for center in centers:\n",
    "    print(center)"
   ]
  },
  {
   "cell_type": "code",
   "execution_count": 22,
   "metadata": {},
   "outputs": [],
   "source": [
    "# Convert to Pandas\n",
    "import pandas as pd\n",
    "\n",
    "# Convert to CSV, so mapbox API can render it\n",
    "transform.toPandas().to_csv('/root/Lecture/BIGDATA/datasets/big_data_traffic_violations.csv')"
   ]
  },
  {
   "cell_type": "markdown",
   "metadata": {},
   "source": [
    "## Visualization"
   ]
  },
  {
   "cell_type": "code",
   "execution_count": 23,
   "metadata": {},
   "outputs": [
    {
     "name": "stdout",
     "output_type": "stream",
     "text": [
      "Pixiedust database opened successfully\n"
     ]
    },
    {
     "data": {
      "text/html": [
       "\n",
       "        <div style=\"margin:10px\">\n",
       "            <a href=\"https://github.com/ibm-watson-data-lab/pixiedust\" target=\"_new\">\n",
       "                <img src=\"https://github.com/ibm-watson-data-lab/pixiedust/raw/master/docs/_static/pd_icon32.png\" style=\"float:left;margin-right:10px\"/>\n",
       "            </a>\n",
       "            <span>Pixiedust version 1.1.15</span>\n",
       "        </div>\n",
       "        "
      ],
      "text/plain": [
       "<IPython.core.display.HTML object>"
      ]
     },
     "metadata": {},
     "output_type": "display_data"
    },
    {
     "name": "stdout",
     "output_type": "stream",
     "text": [
      "Downloading 'file:///root/Lecture/BIGDATA/datasets/big_data_traffic_violations.csv' from file:///root/Lecture/BIGDATA/datasets/big_data_traffic_violations.csv\n",
      "Downloaded 85236984 bytes\n",
      "Creating pySpark DataFrame for 'file:///root/Lecture/BIGDATA/datasets/big_data_traffic_violations.csv'. Please wait...\n",
      "Loading file using 'SparkSession'\n",
      "Successfully created pySpark DataFrame for 'file:///root/Lecture/BIGDATA/datasets/big_data_traffic_violations.csv'\n"
     ]
    }
   ],
   "source": [
    "# Import pixiedust to do visualization\n",
    "import pixiedust\n",
    "\n",
    "# Open the CSV file\n",
    "prediction = pixiedust.sampleData('file:///root/Lecture/BIGDATA/datasets/big_data_traffic_violations.csv')"
   ]
  },
  {
   "cell_type": "markdown",
   "metadata": {},
   "source": [
    "![Mapboax Option](img/Screenshot001.png)"
   ]
  },
  {
   "cell_type": "code",
   "metadata": {
    "pixiedust": {
     "displayParams": {
      "chartsize": "70",
      "coloropacity": "100",
      "colorrampname": "Custom Color Range",
      "custombasecolorsecondary": "#04ff00",
      "handlerId": "mapView",
      "keyFields": "latitude,longtitude",
      "kind": "choropleth",
      "legend": "true",
      "mapboxtoken": "pk.eyJ1IjoibWFwYm94IiwiYSI6ImNpejY4M29iazA2Z2gycXA4N2pmbDZmangifQ.-g_vE53SD2WrJ6tFX7QHmA",
      "rowCount": "1000",
      "tableFields": "latitude,longtitude",
      "title": "Big Data Traffic Violations Clustering",
      "valueFields": "Personal Injury,Property Damage"
     }
    }
   },
   "source": [
    "display(prediction)"
   ]
  },
  {
   "cell_type": "markdown",
   "metadata": {},
   "source": [
    "* Simple\n",
    "    \n",
    "    ![img2](img/Screenshot002.png)"
   ]
  },
  {
   "cell_type": "markdown",
   "metadata": {},
   "source": [
    "* Choropleth\n",
    "\n",
    "    ![img3](img/Screenshot003.png)"
   ]
  },
  {
   "cell_type": "markdown",
   "metadata": {},
   "source": [
    "* Choropleth Cluster\n",
    "    \n",
    "    ![img4](img/Screenshot004.png)"
   ]
  },
  {
   "cell_type": "code",
   "execution_count": null,
   "metadata": {},
   "outputs": [],
   "source": []
  }
 ],
 "metadata": {
  "kernelspec": {
   "display_name": "Python 2",
   "language": "python",
   "name": "python2"
  },
  "language_info": {
   "codemirror_mode": {
    "name": "ipython",
    "version": 2
   },
   "file_extension": ".py",
   "mimetype": "text/x-python",
   "name": "python",
   "nbconvert_exporter": "python",
   "pygments_lexer": "ipython2",
   "version": "2.7.16rc1"
  }
 },
 "nbformat": 4,
 "nbformat_minor": 2
}
