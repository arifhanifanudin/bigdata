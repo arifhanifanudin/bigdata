{
 "cells": [
  {
   "cell_type": "markdown",
   "metadata": {},
   "source": [
    "# Tugas Clustering \n",
    "\n",
    "##### Ilham Muhammad Misbahuddin\n",
    "##### 05111540000088\n",
    "\n",
    "## Kebutuhan :\n",
    "1. Operating System : Kali Linux 2019.1\n",
    "2. Apache Spark 2.3.3\n",
    "3. Scala 2.12.8\n",
    "4. Python 3.7.3rc1\n",
    "5. PySpark 2.4.0\n",
    "6. Findspark 1.3.0\n",
    "7. Jupyter 4.4.0\n",
    "\n",
    "## Deskripsi Dataset\n",
    "* Nama Dataset : [Online Retail](https://www.kaggle.com/puneetbhaya/online-retail)\n",
    "\n",
    "<table>\n",
    "    <thead>\n",
    "        <tr>\n",
    "            <th>Sumber Data</th>\n",
    "            <th>Jumlah Baris</th>\n",
    "            <th>Jumlah Colom</th>\n",
    "            <th>Ukuran</th>\n",
    "            <th>Format File</th>\n",
    "        </tr>\n",
    "    </thead>\n",
    "    <tbody>\n",
    "        <tr>\n",
    "            <td>Online Retail.xlsx</td>\n",
    "            <td>541909</td>\n",
    "            <td>8</td>\n",
    "            <td>23,7 MB</td>\n",
    "            <td>XLSX</td>\n",
    "        </tr>\n",
    "    </tbody>\n",
    "</table>\n",
    "    \n"
   ]
  },
  {
   "cell_type": "markdown",
   "metadata": {},
   "source": [
    "## Inisialisasi Apache Spark"
   ]
  },
  {
   "cell_type": "code",
   "execution_count": 1,
   "metadata": {},
   "outputs": [
    {
     "name": "stdout",
     "output_type": "stream",
     "text": [
      "<pyspark.sql.session.SparkSession object at 0x7fb12868f9d0>\n"
     ]
    }
   ],
   "source": [
    "import findspark\n",
    "findspark.init()\n",
    "\n",
    "from pyspark.sql import SparkSession\n",
    "\n",
    "# Create Spark Session\n",
    "spark = SparkSession.builder.appName(\"Big Data Frequent Itemsets\").getOrCreate()\n",
    "\n",
    "print(spark)"
   ]
  },
  {
   "cell_type": "markdown",
   "metadata": {},
   "source": [
    "## Load Dataset"
   ]
  },
  {
   "cell_type": "code",
   "execution_count": 2,
   "metadata": {},
   "outputs": [
    {
     "data": {
      "text/plain": [
       "pyspark.sql.dataframe.DataFrame"
      ]
     },
     "execution_count": 2,
     "metadata": {},
     "output_type": "execute_result"
    }
   ],
   "source": [
    "# Load excel\n",
    "import pandas as pd\n",
    "from pyspark.sql.types import *\n",
    "\n",
    "df_excel = pd.read_excel(\"/root/Lecture/BIGDATA/datasets/Online Retail.xlsx\")\n",
    "\n",
    "header = StructType([ StructField(\"InvoiceNo\", StringType(), True)\\\n",
    "                       ,StructField(\"StockCode\", StringType(), True)\\\n",
    "                       ,StructField(\"Description\", StringType(), True)\\\n",
    "                       ,StructField(\"Quantity\", IntegerType(), True)\\\n",
    "                       ,StructField(\"InvoiceDate\", StringType(), True)\\\n",
    "                       ,StructField(\"UnitPrice\", DoubleType(), True)\\\n",
    "                       ,StructField(\"CustomerID\", StringType(), True)\\\n",
    "                       ,StructField(\"Country\", StringType(), True)])\n",
    "\n",
    "df = spark.createDataFrame(df_excel, schema=header)\n",
    "type(df)"
   ]
  },
  {
   "cell_type": "code",
   "execution_count": 3,
   "metadata": {},
   "outputs": [
    {
     "data": {
      "text/plain": [
       "541909"
      ]
     },
     "execution_count": 3,
     "metadata": {},
     "output_type": "execute_result"
    }
   ],
   "source": [
    "# Count dataset Online Retail\n",
    "df.count()"
   ]
  },
  {
   "cell_type": "code",
   "execution_count": 4,
   "metadata": {
    "scrolled": true
   },
   "outputs": [
    {
     "name": "stdout",
     "output_type": "stream",
     "text": [
      "+---------+---------+--------------------+--------+--------------------+---------+----------+--------------+\n",
      "|InvoiceNo|StockCode|         Description|Quantity|         InvoiceDate|UnitPrice|CustomerID|       Country|\n",
      "+---------+---------+--------------------+--------+--------------------+---------+----------+--------------+\n",
      "|   536365|   85123A|WHITE HANGING HEA...|       6|java.util.Gregori...|     2.55|   17850.0|United Kingdom|\n",
      "|   536365|    71053| WHITE METAL LANTERN|       6|java.util.Gregori...|     3.39|   17850.0|United Kingdom|\n",
      "|   536365|   84406B|CREAM CUPID HEART...|       8|java.util.Gregori...|     2.75|   17850.0|United Kingdom|\n",
      "|   536365|   84029G|KNITTED UNION FLA...|       6|java.util.Gregori...|     3.39|   17850.0|United Kingdom|\n",
      "|   536365|   84029E|RED WOOLLY HOTTIE...|       6|java.util.Gregori...|     3.39|   17850.0|United Kingdom|\n",
      "|   536365|    22752|SET 7 BABUSHKA NE...|       2|java.util.Gregori...|     7.65|   17850.0|United Kingdom|\n",
      "|   536365|    21730|GLASS STAR FROSTE...|       6|java.util.Gregori...|     4.25|   17850.0|United Kingdom|\n",
      "|   536366|    22633|HAND WARMER UNION...|       6|java.util.Gregori...|     1.85|   17850.0|United Kingdom|\n",
      "|   536366|    22632|HAND WARMER RED P...|       6|java.util.Gregori...|     1.85|   17850.0|United Kingdom|\n",
      "|   536367|    84879|ASSORTED COLOUR B...|      32|java.util.Gregori...|     1.69|   13047.0|United Kingdom|\n",
      "|   536367|    22745|POPPY'S PLAYHOUSE...|       6|java.util.Gregori...|      2.1|   13047.0|United Kingdom|\n",
      "|   536367|    22748|POPPY'S PLAYHOUSE...|       6|java.util.Gregori...|      2.1|   13047.0|United Kingdom|\n",
      "|   536367|    22749|FELTCRAFT PRINCES...|       8|java.util.Gregori...|     3.75|   13047.0|United Kingdom|\n",
      "|   536367|    22310|IVORY KNITTED MUG...|       6|java.util.Gregori...|     1.65|   13047.0|United Kingdom|\n",
      "|   536367|    84969|BOX OF 6 ASSORTED...|       6|java.util.Gregori...|     4.25|   13047.0|United Kingdom|\n",
      "|   536367|    22623|BOX OF VINTAGE JI...|       3|java.util.Gregori...|     4.95|   13047.0|United Kingdom|\n",
      "|   536367|    22622|BOX OF VINTAGE AL...|       2|java.util.Gregori...|     9.95|   13047.0|United Kingdom|\n",
      "|   536367|    21754|HOME BUILDING BLO...|       3|java.util.Gregori...|     5.95|   13047.0|United Kingdom|\n",
      "|   536367|    21755|LOVE BUILDING BLO...|       3|java.util.Gregori...|     5.95|   13047.0|United Kingdom|\n",
      "|   536367|    21777|RECIPE BOX WITH M...|       4|java.util.Gregori...|     7.95|   13047.0|United Kingdom|\n",
      "+---------+---------+--------------------+--------+--------------------+---------+----------+--------------+\n",
      "only showing top 20 rows\n",
      "\n"
     ]
    }
   ],
   "source": [
    "# Show dataset Online Retail\n",
    "df.show()"
   ]
  },
  {
   "cell_type": "code",
   "execution_count": 5,
   "metadata": {
    "scrolled": true
   },
   "outputs": [
    {
     "name": "stdout",
     "output_type": "stream",
     "text": [
      "+---------+---------+\n",
      "|InvoiceNo|StockCode|\n",
      "+---------+---------+\n",
      "|   536365|   85123A|\n",
      "|   536365|    71053|\n",
      "|   536365|   84406B|\n",
      "|   536365|   84029G|\n",
      "|   536365|   84029E|\n",
      "|   536365|    22752|\n",
      "|   536365|    21730|\n",
      "|   536366|    22633|\n",
      "|   536366|    22632|\n",
      "|   536367|    84879|\n",
      "|   536367|    22745|\n",
      "|   536367|    22748|\n",
      "|   536367|    22749|\n",
      "|   536367|    22310|\n",
      "|   536367|    84969|\n",
      "|   536367|    22623|\n",
      "|   536367|    22622|\n",
      "|   536367|    21754|\n",
      "|   536367|    21755|\n",
      "|   536367|    21777|\n",
      "+---------+---------+\n",
      "only showing top 20 rows\n",
      "\n"
     ]
    }
   ],
   "source": [
    "# Drop some column\n",
    "dropped_column = ['Quantity', 'InvoiceDate', 'UnitPrice', 'Country', 'Description', 'CustomerID']\n",
    "df = df.drop(*dropped_column)\n",
    "\n",
    "# Show dataset after some column dropped\n",
    "df.show()"
   ]
  },
  {
   "cell_type": "code",
   "execution_count": 6,
   "metadata": {},
   "outputs": [
    {
     "name": "stdout",
     "output_type": "stream",
     "text": [
      "+---------+----------------------+\n",
      "|InvoiceNo|collect_set(StockCode)|\n",
      "+---------+----------------------+\n",
      "|   536596|  [22900, 22114, 84...|\n",
      "|   536938|  [22112, 21931, 84...|\n",
      "|   537252|               [22197]|\n",
      "|   537691|  [22505, 46000R, 2...|\n",
      "|   538041|               [22145]|\n",
      "|   538184|  [22561, 22147, 21...|\n",
      "|   538517|  [22749, 21212, 22...|\n",
      "|   538879|  [21212, 22759, 22...|\n",
      "|   539275|  [22083, 22150, 22...|\n",
      "|   539630|  [22111, 22971, 22...|\n",
      "|   540499|  [22697, 22796, 21...|\n",
      "|   540540|  [22111, 22834, 22...|\n",
      "|   540976|  [22413, 21212, 22...|\n",
      "|   541432|  [22113, 22457, 21...|\n",
      "|   541518|  [21212, 22432, 22...|\n",
      "|   541783|  [22561, 22697, 22...|\n",
      "|   542026|  [22398, 22194, 22...|\n",
      "|   542375|  [22629, 21731, 22...|\n",
      "|   543641|  [22645, 75131, 22...|\n",
      "|   544303|  [84596L, 22931, 8...|\n",
      "+---------+----------------------+\n",
      "only showing top 20 rows\n",
      "\n"
     ]
    }
   ],
   "source": [
    "# Group dataset \n",
    "from pyspark.sql import functions as F\n",
    "\n",
    "gdf = df.groupby(\"InvoiceNo\").agg(F.collect_set(\"StockCode\"))\n",
    "\n",
    "# Show groupped dataset\n",
    "gdf.show()"
   ]
  },
  {
   "cell_type": "markdown",
   "metadata": {},
   "source": [
    "## Prediksi Frequent Itemsets"
   ]
  },
  {
   "cell_type": "code",
   "execution_count": null,
   "metadata": {},
   "outputs": [],
   "source": [
    "# Frequent itemsets with Minimum Support = 0.01 and Minimum Confidence = 0.8\n",
    "from pyspark.ml.fpm import FPGrowth\n",
    "\n",
    "fpGrowth = FPGrowth(itemsCol=\"collect_set(StockCode)\", minSupport=0.01, minConfidence=0.8)\n",
    "model = fpGrowth.fit(gdf)\n",
    "model.freqItemsets.show()"
   ]
  },
  {
   "cell_type": "code",
   "execution_count": null,
   "metadata": {},
   "outputs": [],
   "source": [
    "# Association rule with Minimum Support = 0.01 and Minimum Confidence = 0.8\n",
    "model.associationRules.show()"
   ]
  },
  {
   "cell_type": "code",
   "execution_count": null,
   "metadata": {
    "scrolled": true
   },
   "outputs": [],
   "source": [
    "# Item prediction with Minimum Support = 0.01 and Minimum Confidence = 0.8\n",
    "model.transform(gdf).show()"
   ]
  },
  {
   "cell_type": "code",
   "execution_count": null,
   "metadata": {},
   "outputs": [],
   "source": [
    "# Frequent itemsets with Minimum Support = 0.02 and Minimum Confidence = 0.7\n",
    "fpGrowth = FPGrowth(itemsCol=\"collect_set(StockCode)\", minSupport=0.02, minConfidence=0.7)\n",
    "model = fpGrowth.fit(gdf)\n",
    "model.freqItemsets.show()"
   ]
  },
  {
   "cell_type": "code",
   "execution_count": null,
   "metadata": {},
   "outputs": [],
   "source": [
    "# Association rule with Minimum Support = 0.02 and Minimum Confidence = 0.7\n",
    "model.associationRules.show()"
   ]
  },
  {
   "cell_type": "code",
   "execution_count": null,
   "metadata": {},
   "outputs": [],
   "source": [
    "# Item prediction with Minimum Support = 0.02 and Minimum Confidence = 0.7\n",
    "model.transform(gdf).show()"
   ]
  },
  {
   "cell_type": "code",
   "execution_count": null,
   "metadata": {},
   "outputs": [],
   "source": [
    "# Frequent itemsets with Minimum Support = 0.03 and Minimum Confidence = 0.8\n",
    "fpGrowth = FPGrowth(itemsCol=\"collect_set(StockCode)\", minSupport=0.03, minConfidence=0.6)\n",
    "model = fpGrowth.fit(gdf)\n",
    "model.freqItemsets.show()"
   ]
  },
  {
   "cell_type": "code",
   "execution_count": null,
   "metadata": {},
   "outputs": [],
   "source": [
    "# Association rule with Minimum Support = 0.03 and Minimum Confidence = 0.6\n",
    "model.associationRules.show()"
   ]
  },
  {
   "cell_type": "code",
   "execution_count": null,
   "metadata": {},
   "outputs": [],
   "source": [
    "# Item prediction with Minimum Support = 0.03 and Minimum Confidence = 0.6\n",
    "model.transform(gdf).show()"
   ]
  }
 ],
 "metadata": {
  "kernelspec": {
   "display_name": "Python 3",
   "language": "python",
   "name": "python3"
  },
  "language_info": {
   "codemirror_mode": {
    "name": "ipython",
    "version": 2
   },
   "file_extension": ".py",
   "mimetype": "text/x-python",
   "name": "python",
   "nbconvert_exporter": "python",
   "pygments_lexer": "ipython2",
   "version": "2.7.16"
  }
 },
 "nbformat": 4,
 "nbformat_minor": 2
}
