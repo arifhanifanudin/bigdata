{
 "cells": [
  {
   "cell_type": "markdown",
   "metadata": {},
   "source": [
    "# Tugas Clustering \n",
    "\n",
    "##### Ilham Muhammad Misbahuddin\n",
    "##### 05111540000088\n",
    "\n",
    "## Kebutuhan :\n",
    "1. Operating System : Kali Linux 2019.1\n",
    "2. Apache Spark 2.3.3\n",
    "3. Scala 2.12.8\n",
    "4. Python 3.7.3rc1\n",
    "5. PySpark 2.4.0\n",
    "6. Findspark 1.3.0\n",
    "7. Jupyter 4.4.0\n",
    "\n",
    "## Deskripsi Dataset\n",
    "* Nama Dataset : [Online Retail](https://www.kaggle.com/puneetbhaya/online-retail)\n",
    "\n",
    "<table>\n",
    "    <thead>\n",
    "        <tr>\n",
    "            <th>Sumber Data</th>\n",
    "            <th>Jumlah Baris</th>\n",
    "            <th>Jumlah Colom</th>\n",
    "            <th>Ukuran</th>\n",
    "            <th>Format File</th>\n",
    "        </tr>\n",
    "    </thead>\n",
    "    <tbody>\n",
    "        <tr>\n",
    "            <td>Online Retail.xlsx</td>\n",
    "            <td>541909</td>\n",
    "            <td>8</td>\n",
    "            <td>23,7 MB</td>\n",
    "            <td>XLSX</td>\n",
    "        </tr>\n",
    "    </tbody>\n",
    "</table>\n",
    "    \n"
   ]
  },
  {
   "cell_type": "markdown",
   "metadata": {},
   "source": [
    "## Inisialisasi Apache Spark"
   ]
  },
  {
   "cell_type": "code",
   "execution_count": 1,
   "metadata": {},
   "outputs": [
    {
     "name": "stdout",
     "output_type": "stream",
     "text": [
      "<pyspark.sql.session.SparkSession object at 0x7fee55adea10>\n"
     ]
    }
   ],
   "source": [
    "import findspark\n",
    "findspark.init()\n",
    "\n",
    "from pyspark.sql import SparkSession\n",
    "\n",
    "# Create Spark Session\n",
    "spark = SparkSession.builder.appName(\"Big Data Frequent Itemsets\").getOrCreate()\n",
    "\n",
    "print(spark)"
   ]
  },
  {
   "cell_type": "markdown",
   "metadata": {},
   "source": [
    "## Load Dataset"
   ]
  },
  {
   "cell_type": "code",
   "execution_count": 2,
   "metadata": {},
   "outputs": [
    {
     "data": {
      "text/plain": [
       "pyspark.sql.dataframe.DataFrame"
      ]
     },
     "execution_count": 2,
     "metadata": {},
     "output_type": "execute_result"
    }
   ],
   "source": [
    "# Load excel\n",
    "import pandas as pd\n",
    "from pyspark.sql.types import *\n",
    "\n",
    "df_excel = pd.read_excel(\"/root/Lecture/BIGDATA/datasets/Online Retail.xlsx\")\n",
    "\n",
    "header = StructType([ StructField(\"InvoiceNo\", StringType(), True)\\\n",
    "                       ,StructField(\"StockCode\", StringType(), True)\\\n",
    "                       ,StructField(\"Description\", StringType(), True)\\\n",
    "                       ,StructField(\"Quantity\", IntegerType(), True)\\\n",
    "                       ,StructField(\"InvoiceDate\", StringType(), True)\\\n",
    "                       ,StructField(\"UnitPrice\", DoubleType(), True)\\\n",
    "                       ,StructField(\"CustomerID\", StringType(), True)\\\n",
    "                       ,StructField(\"Country\", StringType(), True)])\n",
    "\n",
    "df = spark.createDataFrame(df_excel, schema=header)\n",
    "type(df)"
   ]
  },
  {
   "cell_type": "code",
   "execution_count": 3,
   "metadata": {},
   "outputs": [
    {
     "data": {
      "text/plain": [
       "541909"
      ]
     },
     "execution_count": 3,
     "metadata": {},
     "output_type": "execute_result"
    }
   ],
   "source": [
    "# Count dataset Online Retail\n",
    "df.count()"
   ]
  },
  {
   "cell_type": "code",
   "execution_count": 4,
   "metadata": {
    "scrolled": true
   },
   "outputs": [
    {
     "name": "stdout",
     "output_type": "stream",
     "text": [
      "+---------+---------+--------------------+--------+--------------------+---------+----------+--------------+\n",
      "|InvoiceNo|StockCode|         Description|Quantity|         InvoiceDate|UnitPrice|CustomerID|       Country|\n",
      "+---------+---------+--------------------+--------+--------------------+---------+----------+--------------+\n",
      "|   536365|   85123A|WHITE HANGING HEA...|       6|java.util.Gregori...|     2.55|   17850.0|United Kingdom|\n",
      "|   536365|    71053| WHITE METAL LANTERN|       6|java.util.Gregori...|     3.39|   17850.0|United Kingdom|\n",
      "|   536365|   84406B|CREAM CUPID HEART...|       8|java.util.Gregori...|     2.75|   17850.0|United Kingdom|\n",
      "|   536365|   84029G|KNITTED UNION FLA...|       6|java.util.Gregori...|     3.39|   17850.0|United Kingdom|\n",
      "|   536365|   84029E|RED WOOLLY HOTTIE...|       6|java.util.Gregori...|     3.39|   17850.0|United Kingdom|\n",
      "|   536365|    22752|SET 7 BABUSHKA NE...|       2|java.util.Gregori...|     7.65|   17850.0|United Kingdom|\n",
      "|   536365|    21730|GLASS STAR FROSTE...|       6|java.util.Gregori...|     4.25|   17850.0|United Kingdom|\n",
      "|   536366|    22633|HAND WARMER UNION...|       6|java.util.Gregori...|     1.85|   17850.0|United Kingdom|\n",
      "|   536366|    22632|HAND WARMER RED P...|       6|java.util.Gregori...|     1.85|   17850.0|United Kingdom|\n",
      "|   536367|    84879|ASSORTED COLOUR B...|      32|java.util.Gregori...|     1.69|   13047.0|United Kingdom|\n",
      "|   536367|    22745|POPPY'S PLAYHOUSE...|       6|java.util.Gregori...|      2.1|   13047.0|United Kingdom|\n",
      "|   536367|    22748|POPPY'S PLAYHOUSE...|       6|java.util.Gregori...|      2.1|   13047.0|United Kingdom|\n",
      "|   536367|    22749|FELTCRAFT PRINCES...|       8|java.util.Gregori...|     3.75|   13047.0|United Kingdom|\n",
      "|   536367|    22310|IVORY KNITTED MUG...|       6|java.util.Gregori...|     1.65|   13047.0|United Kingdom|\n",
      "|   536367|    84969|BOX OF 6 ASSORTED...|       6|java.util.Gregori...|     4.25|   13047.0|United Kingdom|\n",
      "|   536367|    22623|BOX OF VINTAGE JI...|       3|java.util.Gregori...|     4.95|   13047.0|United Kingdom|\n",
      "|   536367|    22622|BOX OF VINTAGE AL...|       2|java.util.Gregori...|     9.95|   13047.0|United Kingdom|\n",
      "|   536367|    21754|HOME BUILDING BLO...|       3|java.util.Gregori...|     5.95|   13047.0|United Kingdom|\n",
      "|   536367|    21755|LOVE BUILDING BLO...|       3|java.util.Gregori...|     5.95|   13047.0|United Kingdom|\n",
      "|   536367|    21777|RECIPE BOX WITH M...|       4|java.util.Gregori...|     7.95|   13047.0|United Kingdom|\n",
      "+---------+---------+--------------------+--------+--------------------+---------+----------+--------------+\n",
      "only showing top 20 rows\n",
      "\n"
     ]
    }
   ],
   "source": [
    "# Show dataset Online Retail\n",
    "df.show()"
   ]
  },
  {
   "cell_type": "code",
   "execution_count": 5,
   "metadata": {
    "scrolled": true
   },
   "outputs": [
    {
     "name": "stdout",
     "output_type": "stream",
     "text": [
      "+---------+---------+--------------------+\n",
      "|InvoiceNo|StockCode|         Description|\n",
      "+---------+---------+--------------------+\n",
      "|   536365|   85123A|WHITE HANGING HEA...|\n",
      "|   536365|    71053| WHITE METAL LANTERN|\n",
      "|   536365|   84406B|CREAM CUPID HEART...|\n",
      "|   536365|   84029G|KNITTED UNION FLA...|\n",
      "|   536365|   84029E|RED WOOLLY HOTTIE...|\n",
      "|   536365|    22752|SET 7 BABUSHKA NE...|\n",
      "|   536365|    21730|GLASS STAR FROSTE...|\n",
      "|   536366|    22633|HAND WARMER UNION...|\n",
      "|   536366|    22632|HAND WARMER RED P...|\n",
      "|   536367|    84879|ASSORTED COLOUR B...|\n",
      "|   536367|    22745|POPPY'S PLAYHOUSE...|\n",
      "|   536367|    22748|POPPY'S PLAYHOUSE...|\n",
      "|   536367|    22749|FELTCRAFT PRINCES...|\n",
      "|   536367|    22310|IVORY KNITTED MUG...|\n",
      "|   536367|    84969|BOX OF 6 ASSORTED...|\n",
      "|   536367|    22623|BOX OF VINTAGE JI...|\n",
      "|   536367|    22622|BOX OF VINTAGE AL...|\n",
      "|   536367|    21754|HOME BUILDING BLO...|\n",
      "|   536367|    21755|LOVE BUILDING BLO...|\n",
      "|   536367|    21777|RECIPE BOX WITH M...|\n",
      "+---------+---------+--------------------+\n",
      "only showing top 20 rows\n",
      "\n"
     ]
    }
   ],
   "source": [
    "# Drop some column\n",
    "dropped_column = ['Quantity', 'InvoiceDate', 'UnitPrice', 'Country', 'CustomerID']\n",
    "df = df.drop(*dropped_column)\n",
    "\n",
    "# Show dataset after some column dropped\n",
    "df.show()"
   ]
  },
  {
   "cell_type": "code",
   "execution_count": 6,
   "metadata": {},
   "outputs": [
    {
     "name": "stdout",
     "output_type": "stream",
     "text": [
      "+---------+------------------------+\n",
      "|InvoiceNo|collect_set(Description)|\n",
      "+---------+------------------------+\n",
      "|   536596|    [WAKE UP COCKEREL...|\n",
      "|   536938|    [RED 3 PIECE RETR...|\n",
      "|   537252|    [SMALL POPCORN HO...|\n",
      "|   537691|    [3 HOOK PHOTO SHE...|\n",
      "|   538041|                   [NaN]|\n",
      "|   538184|    [MINI JIGSAW SPAC...|\n",
      "|   538517|    [LARGE POPCORN HO...|\n",
      "|   538879|    [PARTY CONE CHRIS...|\n",
      "|   539275|    [RED  HARMONICA I...|\n",
      "|   539630|    [CHICK GREY HOT W...|\n",
      "|   540499|    [IVORY KITCHEN SC...|\n",
      "|   540540|    [HOME SWEET HOME ...|\n",
      "|   540976|    [60 CAKE CASES DO...|\n",
      "|   541432|    [RETROSPOT HEART ...|\n",
      "|   541518|    [60 CAKE CASES DO...|\n",
      "|   541783|    [PHOTO FRAME 3 CL...|\n",
      "|   542026|    [SMALL POPCORN HO...|\n",
      "|   542375|    [CHILDRENS APRON ...|\n",
      "|   543641|    [DOORSTOP FOOTBAL...|\n",
      "|   544303|    [TEA TIME KITCHEN...|\n",
      "+---------+------------------------+\n",
      "only showing top 20 rows\n",
      "\n"
     ]
    }
   ],
   "source": [
    "# Group dataset \n",
    "from pyspark.sql import functions as F\n",
    "\n",
    "gdf = df.groupby(\"InvoiceNo\").agg(F.collect_set(\"Description\"))\n",
    "\n",
    "# Show groupped dataset\n",
    "gdf.show()"
   ]
  },
  {
   "cell_type": "markdown",
   "metadata": {},
   "source": [
    "## Prediksi Frequent Itemsets"
   ]
  },
  {
   "cell_type": "code",
   "execution_count": 7,
   "metadata": {},
   "outputs": [
    {
     "name": "stdout",
     "output_type": "stream",
     "text": [
      "+--------------------+----+\n",
      "|               items|freq|\n",
      "+--------------------+----+\n",
      "|[WHITE HANGING HE...|2302|\n",
      "|[REGENCY CAKESTAN...|2169|\n",
      "|[JUMBO BAG RED RE...|2135|\n",
      "|     [PARTY BUNTING]|1706|\n",
      "|[LUNCH BAG RED RE...|1607|\n",
      "|[ASSORTED COLOUR ...|1467|\n",
      "|[SET OF 3 CAKE TI...|1458|\n",
      "|               [NaN]|1454|\n",
      "|[PACK OF 72 RETRO...|1334|\n",
      "|[LUNCH BAG  BLACK...|1295|\n",
      "+--------------------+----+\n",
      "\n"
     ]
    },
    {
     "data": {
      "text/plain": [
       "10"
      ]
     },
     "execution_count": 7,
     "metadata": {},
     "output_type": "execute_result"
    }
   ],
   "source": [
    "# Frequent itemsets with Minimum Support = 0.05 and Minimum Confidence = 0.8\n",
    "from pyspark.ml.fpm import FPGrowth\n",
    "\n",
    "fpGrowth = FPGrowth(itemsCol=\"collect_set(Description)\", minSupport=0.05, minConfidence=0.8)\n",
    "model = fpGrowth.fit(gdf)\n",
    "model.freqItemsets.show()\n",
    "model.freqItemsets.count()"
   ]
  },
  {
   "cell_type": "code",
   "execution_count": 8,
   "metadata": {},
   "outputs": [
    {
     "name": "stdout",
     "output_type": "stream",
     "text": [
      "+----------+----------+----------+\n",
      "|antecedent|consequent|confidence|\n",
      "+----------+----------+----------+\n",
      "+----------+----------+----------+\n",
      "\n"
     ]
    }
   ],
   "source": [
    "# Association rule with Minimum Support = 0.05 and Minimum Confidence = 0.8\n",
    "model.associationRules.show()"
   ]
  },
  {
   "cell_type": "code",
   "execution_count": 9,
   "metadata": {
    "scrolled": true
   },
   "outputs": [
    {
     "name": "stdout",
     "output_type": "stream",
     "text": [
      "+---------+------------------------+----------+\n",
      "|InvoiceNo|collect_set(Description)|prediction|\n",
      "+---------+------------------------+----------+\n",
      "|   536596|    [WAKE UP COCKEREL...|        []|\n",
      "|   536938|    [RED 3 PIECE RETR...|        []|\n",
      "|   537252|    [SMALL POPCORN HO...|        []|\n",
      "|   537691|    [3 HOOK PHOTO SHE...|        []|\n",
      "|   538041|                   [NaN]|        []|\n",
      "|   538184|    [MINI JIGSAW SPAC...|        []|\n",
      "|   538517|    [LARGE POPCORN HO...|        []|\n",
      "|   538879|    [PARTY CONE CHRIS...|        []|\n",
      "|   539275|    [RED  HARMONICA I...|        []|\n",
      "|   539630|    [CHICK GREY HOT W...|        []|\n",
      "|   540499|    [IVORY KITCHEN SC...|        []|\n",
      "|   540540|    [HOME SWEET HOME ...|        []|\n",
      "|   540976|    [60 CAKE CASES DO...|        []|\n",
      "|   541432|    [RETROSPOT HEART ...|        []|\n",
      "|   541518|    [60 CAKE CASES DO...|        []|\n",
      "|   541783|    [PHOTO FRAME 3 CL...|        []|\n",
      "|   542026|    [SMALL POPCORN HO...|        []|\n",
      "|   542375|    [CHILDRENS APRON ...|        []|\n",
      "|   543641|    [DOORSTOP FOOTBAL...|        []|\n",
      "|   544303|    [TEA TIME KITCHEN...|        []|\n",
      "+---------+------------------------+----------+\n",
      "only showing top 20 rows\n",
      "\n"
     ]
    }
   ],
   "source": [
    "# Item prediction with Minimum Support = 0.05 and Minimum Confidence = 0.8\n",
    "model.transform(gdf).show()"
   ]
  },
  {
   "cell_type": "code",
   "execution_count": 10,
   "metadata": {},
   "outputs": [
    {
     "name": "stdout",
     "output_type": "stream",
     "text": [
      "+--------------------+----+\n",
      "|               items|freq|\n",
      "+--------------------+----+\n",
      "|[WHITE HANGING HE...|2302|\n",
      "|[REGENCY CAKESTAN...|2169|\n",
      "|[JUMBO BAG RED RE...|2135|\n",
      "|     [PARTY BUNTING]|1706|\n",
      "|[LUNCH BAG RED RE...|1607|\n",
      "|[ASSORTED COLOUR ...|1467|\n",
      "|[SET OF 3 CAKE TI...|1458|\n",
      "|               [NaN]|1454|\n",
      "|[PACK OF 72 RETRO...|1334|\n",
      "|[LUNCH BAG  BLACK...|1295|\n",
      "|[NATURAL SLATE HE...|1266|\n",
      "|           [POSTAGE]|1250|\n",
      "|[JUMBO BAG PINK P...|1231|\n",
      "|[JUMBO BAG PINK P...| 833|\n",
      "|[JAM MAKING SET W...|1220|\n",
      "|[HEART OF WICKER ...|1212|\n",
      "|[JUMBO STORAGE BA...|1201|\n",
      "|[JUMBO SHOPPER VI...|1187|\n",
      "|[JAM MAKING SET P...|1174|\n",
      "|[LUNCH BAG CARS B...|1173|\n",
      "+--------------------+----+\n",
      "only showing top 20 rows\n",
      "\n"
     ]
    },
    {
     "data": {
      "text/plain": [
       "75"
      ]
     },
     "execution_count": 10,
     "metadata": {},
     "output_type": "execute_result"
    }
   ],
   "source": [
    "# Frequent itemsets with Minimum Support = 0.03 and Minimum Confidence = 0.7\n",
    "fpGrowth = FPGrowth(itemsCol=\"collect_set(Description)\", minSupport=0.03, minConfidence=0.7)\n",
    "model2 = fpGrowth.fit(gdf)\n",
    "model2.freqItemsets.show()\n",
    "model2.freqItemsets.count()"
   ]
  },
  {
   "cell_type": "code",
   "execution_count": 11,
   "metadata": {},
   "outputs": [
    {
     "name": "stdout",
     "output_type": "stream",
     "text": [
      "+--------------------+--------------------+------------------+\n",
      "|          antecedent|          consequent|        confidence|\n",
      "+--------------------+--------------------+------------------+\n",
      "|[GREEN REGENCY TE...|[ROSES REGENCY TE...|0.7417218543046358|\n",
      "|[ROSES REGENCY TE...|[GREEN REGENCY TE...|               0.7|\n",
      "+--------------------+--------------------+------------------+\n",
      "\n"
     ]
    }
   ],
   "source": [
    "# Association rule with Minimum Support = 0.03 and Minimum Confidence = 0.7\n",
    "model2.associationRules.show()"
   ]
  },
  {
   "cell_type": "code",
   "execution_count": 12,
   "metadata": {},
   "outputs": [
    {
     "name": "stdout",
     "output_type": "stream",
     "text": [
      "+---------+------------------------+----------+\n",
      "|InvoiceNo|collect_set(Description)|prediction|\n",
      "+---------+------------------------+----------+\n",
      "|   536596|    [WAKE UP COCKEREL...|        []|\n",
      "|   536938|    [RED 3 PIECE RETR...|        []|\n",
      "|   537252|    [SMALL POPCORN HO...|        []|\n",
      "|   537691|    [3 HOOK PHOTO SHE...|        []|\n",
      "|   538041|                   [NaN]|        []|\n",
      "|   538184|    [MINI JIGSAW SPAC...|        []|\n",
      "|   538517|    [LARGE POPCORN HO...|        []|\n",
      "|   538879|    [PARTY CONE CHRIS...|        []|\n",
      "|   539275|    [RED  HARMONICA I...|        []|\n",
      "|   539630|    [CHICK GREY HOT W...|        []|\n",
      "|   540499|    [IVORY KITCHEN SC...|        []|\n",
      "|   540540|    [HOME SWEET HOME ...|        []|\n",
      "|   540976|    [60 CAKE CASES DO...|        []|\n",
      "|   541432|    [RETROSPOT HEART ...|        []|\n",
      "|   541518|    [60 CAKE CASES DO...|        []|\n",
      "|   541783|    [PHOTO FRAME 3 CL...|        []|\n",
      "|   542026|    [SMALL POPCORN HO...|        []|\n",
      "|   542375|    [CHILDRENS APRON ...|        []|\n",
      "|   543641|    [DOORSTOP FOOTBAL...|        []|\n",
      "|   544303|    [TEA TIME KITCHEN...|        []|\n",
      "+---------+------------------------+----------+\n",
      "only showing top 20 rows\n",
      "\n"
     ]
    }
   ],
   "source": [
    "# Item prediction with Minimum Support = 0.03 and Minimum Confidence = 0.7\n",
    "model2.transform(gdf).show()"
   ]
  },
  {
   "cell_type": "code",
   "execution_count": 13,
   "metadata": {},
   "outputs": [
    {
     "name": "stdout",
     "output_type": "stream",
     "text": [
      "+--------------------+----+\n",
      "|               items|freq|\n",
      "+--------------------+----+\n",
      "|[PANTRY MAGNETIC ...| 489|\n",
      "|[ENGLISH ROSE NOT...| 346|\n",
      "|[WHITE HANGING HE...|2302|\n",
      "|[REGENCY CAKESTAN...|2169|\n",
      "|[REGENCY CAKESTAN...| 360|\n",
      "|[SET/3 RED GINGHA...| 489|\n",
      "|[BALLOONS  WRITIN...| 346|\n",
      "|[JUMBO BAG RED RE...|2135|\n",
      "|[JUMBO BAG RED RE...| 288|\n",
      "|[JUMBO BAG RED RE...| 452|\n",
      "|[HAND WARMER UNIO...| 486|\n",
      "|[AGED GLASS SILVE...| 345|\n",
      "|[CLASSIC CAFE SUG...| 343|\n",
      "|     [PARTY BUNTING]|1706|\n",
      "|[PARTY BUNTING, J...| 332|\n",
      "|[PARTY BUNTING, R...| 398|\n",
      "|[PARTY BUNTING, W...| 390|\n",
      "|[4 TRADITIONAL SP...| 486|\n",
      "|[LUNCH BAG RED RE...|1607|\n",
      "|[LUNCH BAG RED RE...| 588|\n",
      "+--------------------+----+\n",
      "only showing top 20 rows\n",
      "\n"
     ]
    },
    {
     "data": {
      "text/plain": [
       "1039"
      ]
     },
     "execution_count": 13,
     "metadata": {},
     "output_type": "execute_result"
    }
   ],
   "source": [
    "# Frequent itemsets with Minimum Support = 0.01 and Minimum Confidence = 0.6\n",
    "fpGrowth = FPGrowth(itemsCol=\"collect_set(Description)\", minSupport=0.01, minConfidence=0.6)\n",
    "model3 = fpGrowth.fit(gdf)\n",
    "model3.freqItemsets.show()\n",
    "model3.freqItemsets.count()"
   ]
  },
  {
   "cell_type": "code",
   "execution_count": 14,
   "metadata": {},
   "outputs": [
    {
     "name": "stdout",
     "output_type": "stream",
     "text": [
      "+--------------------+--------------------+------------------+\n",
      "|          antecedent|          consequent|        confidence|\n",
      "+--------------------+--------------------+------------------+\n",
      "|[PAPER CHAIN KIT ...|[PAPER CHAIN KIT ...|0.6670673076923077|\n",
      "|[JUMBO BAG SPACEB...|[JUMBO BAG PINK P...|0.6134259259259259|\n",
      "|[JUMBO BAG SCANDI...|[JUMBO SHOPPER VI...|0.6128318584070797|\n",
      "|[HAND WARMER SCOT...|[HAND WARMER OWL ...|0.6057866184448463|\n",
      "|[SET/6 RED SPOTTY...|[SET/6 RED SPOTTY...|0.6641366223908919|\n",
      "|[SET/6 RED SPOTTY...|[SET/20 RED RETRO...|0.7020872865275142|\n",
      "|[ROSES REGENCY TE...|[GREEN REGENCY TE...|0.7672253258845437|\n",
      "|[ROSES REGENCY TE...|[PINK REGENCY TEA...|  0.62756052141527|\n",
      "|[JUMBO SHOPPER VI...|[JUMBO BAG RED RE...|0.7447619047619047|\n",
      "|[SET/6 RED SPOTTY...|[SET/6 RED SPOTTY...|0.8952702702702703|\n",
      "|[PINK REGENCY TEA...|[GREEN REGENCY TE...|0.8941368078175895|\n",
      "|[STRAWBERRY CHARL...|[RED RETROSPOT CH...|0.8038277511961722|\n",
      "|[STRAWBERRY CHARL...|[WOODLAND CHARLOT...|0.7272727272727273|\n",
      "|[STRAWBERRY CHARL...|[CHARLOTTE BAG PI...|  0.65311004784689|\n",
      "|[PINK VINTAGE PAI...|[SCANDINAVIAN PAI...|0.6763285024154589|\n",
      "|[RED RETROSPOT CH...|[CHARLOTTE BAG SU...|0.6574307304785895|\n",
      "|[JUMBO STORAGE BA...|[JUMBO BAG RED RE...|0.6103247293921732|\n",
      "|[LUNCH BAG WOODLA...|[LUNCH BAG RED RE...| 0.621978021978022|\n",
      "|[JUMBO BAG PINK V...|[JUMBO BAG RED RE...|0.7754569190600522|\n",
      "|[PINK HAPPY BIRTH...|[BLUE HAPPY BIRTH...|0.6502463054187192|\n",
      "+--------------------+--------------------+------------------+\n",
      "only showing top 20 rows\n",
      "\n"
     ]
    }
   ],
   "source": [
    "# Association rule with Minimum Support = 0.01 and Minimum Confidence = 0.6\n",
    "model3.associationRules.show()"
   ]
  },
  {
   "cell_type": "code",
   "execution_count": 15,
   "metadata": {},
   "outputs": [
    {
     "name": "stdout",
     "output_type": "stream",
     "text": [
      "+---------+------------------------+--------------------+\n",
      "|InvoiceNo|collect_set(Description)|          prediction|\n",
      "+---------+------------------------+--------------------+\n",
      "|   536596|    [WAKE UP COCKEREL...|                  []|\n",
      "|   536938|    [RED 3 PIECE RETR...|[JUMBO BAG RED RE...|\n",
      "|   537252|    [SMALL POPCORN HO...|                  []|\n",
      "|   537691|    [3 HOOK PHOTO SHE...|                  []|\n",
      "|   538041|                   [NaN]|                  []|\n",
      "|   538184|    [MINI JIGSAW SPAC...|                  []|\n",
      "|   538517|    [LARGE POPCORN HO...|                  []|\n",
      "|   538879|    [PARTY CONE CHRIS...|                  []|\n",
      "|   539275|    [RED  HARMONICA I...|                  []|\n",
      "|   539630|    [CHICK GREY HOT W...|                  []|\n",
      "|   540499|    [IVORY KITCHEN SC...|[PINK REGENCY TEA...|\n",
      "|   540540|    [HOME SWEET HOME ...|                  []|\n",
      "|   540976|    [60 CAKE CASES DO...|[CHARLOTTE BAG SU...|\n",
      "|   541432|    [RETROSPOT HEART ...|                  []|\n",
      "|   541518|    [60 CAKE CASES DO...|[LUNCH BAG RED RE...|\n",
      "|   541783|    [PHOTO FRAME 3 CL...|[PINK REGENCY TEA...|\n",
      "|   542026|    [SMALL POPCORN HO...|                  []|\n",
      "|   542375|    [CHILDRENS APRON ...|                  []|\n",
      "|   543641|    [DOORSTOP FOOTBAL...|                  []|\n",
      "|   544303|    [TEA TIME KITCHEN...|                  []|\n",
      "+---------+------------------------+--------------------+\n",
      "only showing top 20 rows\n",
      "\n"
     ]
    }
   ],
   "source": [
    "# Item prediction with Minimum Support = 0.01 and Minimum Confidence = 0.6\n",
    "model3.transform(gdf).show()"
   ]
  },
  {
   "cell_type": "code",
   "execution_count": 16,
   "metadata": {},
   "outputs": [
    {
     "name": "stdout",
     "output_type": "stream",
     "text": [
      "root\n",
      " |-- InvoiceNo: string (nullable = true)\n",
      " |-- collect_set(Description): array (nullable = true)\n",
      " |    |-- element: string (containsNull = true)\n",
      " |-- prediction: array (nullable = true)\n",
      " |    |-- element: string (containsNull = true)\n",
      "\n"
     ]
    }
   ],
   "source": [
    "model3.transform(gdf).printSchema()"
   ]
  },
  {
   "cell_type": "code",
   "execution_count": null,
   "metadata": {},
   "outputs": [],
   "source": []
  }
 ],
 "metadata": {
  "kernelspec": {
   "display_name": "Python 3",
   "language": "python",
   "name": "python3"
  },
  "language_info": {
   "codemirror_mode": {
    "name": "ipython",
    "version": 2
   },
   "file_extension": ".py",
   "mimetype": "text/x-python",
   "name": "python",
   "nbconvert_exporter": "python",
   "pygments_lexer": "ipython2",
   "version": "2.7.16"
  }
 },
 "nbformat": 4,
 "nbformat_minor": 2
}
