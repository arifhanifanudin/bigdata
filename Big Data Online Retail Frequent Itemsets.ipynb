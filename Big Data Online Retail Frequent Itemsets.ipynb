{
 "cells": [
  {
   "cell_type": "code",
   "execution_count": 1,
   "metadata": {},
   "outputs": [
    {
     "name": "stdout",
     "output_type": "stream",
     "text": [
      "<pyspark.sql.session.SparkSession object at 0x7f90c36ef9d0>\n"
     ]
    }
   ],
   "source": [
    "import findspark\n",
    "findspark.init()\n",
    "\n",
    "from pyspark.sql import SparkSession\n",
    "\n",
    "# Create Spark Session\n",
    "spark = SparkSession.builder.appName(\"Big Data Frequent Itemsets\").getOrCreate()\n",
    "\n",
    "print(spark)"
   ]
  },
  {
   "cell_type": "code",
   "execution_count": 2,
   "metadata": {},
   "outputs": [
    {
     "data": {
      "text/plain": [
       "pyspark.sql.dataframe.DataFrame"
      ]
     },
     "execution_count": 2,
     "metadata": {},
     "output_type": "execute_result"
    }
   ],
   "source": [
    "# Load excel\n",
    "import pandas as pd\n",
    "from pyspark.sql.types import *\n",
    "\n",
    "df_excel = pd.read_excel(\"/root/Lecture/BIGDATA/datasets/Online Retail.xlsx\")\n",
    "\n",
    "header = StructType([ StructField(\"InvoiceNo\", StringType(), True)\\\n",
    "                       ,StructField(\"StockCode\", StringType(), True)\\\n",
    "                       ,StructField(\"Description\", StringType(), True)\\\n",
    "                       ,StructField(\"Quantity\", IntegerType(), True)\\\n",
    "                       ,StructField(\"InvoiceDate\", StringType(), True)\\\n",
    "                       ,StructField(\"UnitPrice\", DoubleType(), True)\\\n",
    "                       ,StructField(\"CustomerID\", StringType(), True)\\\n",
    "                       ,StructField(\"Country\", StringType(), True)])\n",
    "\n",
    "df = spark.createDataFrame(df_excel, schema=header)\n",
    "type(df)"
   ]
  },
  {
   "cell_type": "code",
   "execution_count": 3,
   "metadata": {
    "scrolled": true
   },
   "outputs": [
    {
     "name": "stdout",
     "output_type": "stream",
     "text": [
      "+---------+---------+--------------------+--------+--------------------+---------+----------+--------------+\n",
      "|InvoiceNo|StockCode|         Description|Quantity|         InvoiceDate|UnitPrice|CustomerID|       Country|\n",
      "+---------+---------+--------------------+--------+--------------------+---------+----------+--------------+\n",
      "|   536365|   85123A|WHITE HANGING HEA...|       6|java.util.Gregori...|     2.55|   17850.0|United Kingdom|\n",
      "|   536365|    71053| WHITE METAL LANTERN|       6|java.util.Gregori...|     3.39|   17850.0|United Kingdom|\n",
      "|   536365|   84406B|CREAM CUPID HEART...|       8|java.util.Gregori...|     2.75|   17850.0|United Kingdom|\n",
      "|   536365|   84029G|KNITTED UNION FLA...|       6|java.util.Gregori...|     3.39|   17850.0|United Kingdom|\n",
      "|   536365|   84029E|RED WOOLLY HOTTIE...|       6|java.util.Gregori...|     3.39|   17850.0|United Kingdom|\n",
      "|   536365|    22752|SET 7 BABUSHKA NE...|       2|java.util.Gregori...|     7.65|   17850.0|United Kingdom|\n",
      "|   536365|    21730|GLASS STAR FROSTE...|       6|java.util.Gregori...|     4.25|   17850.0|United Kingdom|\n",
      "|   536366|    22633|HAND WARMER UNION...|       6|java.util.Gregori...|     1.85|   17850.0|United Kingdom|\n",
      "|   536366|    22632|HAND WARMER RED P...|       6|java.util.Gregori...|     1.85|   17850.0|United Kingdom|\n",
      "|   536367|    84879|ASSORTED COLOUR B...|      32|java.util.Gregori...|     1.69|   13047.0|United Kingdom|\n",
      "|   536367|    22745|POPPY'S PLAYHOUSE...|       6|java.util.Gregori...|      2.1|   13047.0|United Kingdom|\n",
      "|   536367|    22748|POPPY'S PLAYHOUSE...|       6|java.util.Gregori...|      2.1|   13047.0|United Kingdom|\n",
      "|   536367|    22749|FELTCRAFT PRINCES...|       8|java.util.Gregori...|     3.75|   13047.0|United Kingdom|\n",
      "|   536367|    22310|IVORY KNITTED MUG...|       6|java.util.Gregori...|     1.65|   13047.0|United Kingdom|\n",
      "|   536367|    84969|BOX OF 6 ASSORTED...|       6|java.util.Gregori...|     4.25|   13047.0|United Kingdom|\n",
      "|   536367|    22623|BOX OF VINTAGE JI...|       3|java.util.Gregori...|     4.95|   13047.0|United Kingdom|\n",
      "|   536367|    22622|BOX OF VINTAGE AL...|       2|java.util.Gregori...|     9.95|   13047.0|United Kingdom|\n",
      "|   536367|    21754|HOME BUILDING BLO...|       3|java.util.Gregori...|     5.95|   13047.0|United Kingdom|\n",
      "|   536367|    21755|LOVE BUILDING BLO...|       3|java.util.Gregori...|     5.95|   13047.0|United Kingdom|\n",
      "|   536367|    21777|RECIPE BOX WITH M...|       4|java.util.Gregori...|     7.95|   13047.0|United Kingdom|\n",
      "+---------+---------+--------------------+--------+--------------------+---------+----------+--------------+\n",
      "only showing top 20 rows\n",
      "\n"
     ]
    }
   ],
   "source": [
    "# Show dataset Online Retail\n",
    "df.show()"
   ]
  },
  {
   "cell_type": "code",
   "execution_count": 4,
   "metadata": {
    "scrolled": true
   },
   "outputs": [
    {
     "name": "stdout",
     "output_type": "stream",
     "text": [
      "+---------+---------+\n",
      "|InvoiceNo|StockCode|\n",
      "+---------+---------+\n",
      "|   536365|   85123A|\n",
      "|   536365|    71053|\n",
      "|   536365|   84406B|\n",
      "|   536365|   84029G|\n",
      "|   536365|   84029E|\n",
      "|   536365|    22752|\n",
      "|   536365|    21730|\n",
      "|   536366|    22633|\n",
      "|   536366|    22632|\n",
      "|   536367|    84879|\n",
      "|   536367|    22745|\n",
      "|   536367|    22748|\n",
      "|   536367|    22749|\n",
      "|   536367|    22310|\n",
      "|   536367|    84969|\n",
      "|   536367|    22623|\n",
      "|   536367|    22622|\n",
      "|   536367|    21754|\n",
      "|   536367|    21755|\n",
      "|   536367|    21777|\n",
      "+---------+---------+\n",
      "only showing top 20 rows\n",
      "\n"
     ]
    }
   ],
   "source": [
    "# Drop some column\n",
    "dropped_column = ['Quantity', 'InvoiceDate', 'UnitPrice', 'Country', 'Description', 'CustomerID']\n",
    "df = df.drop(*dropped_column)\n",
    "\n",
    "# Show dataset after some column dropped\n",
    "df.show()"
   ]
  },
  {
   "cell_type": "code",
   "execution_count": 5,
   "metadata": {},
   "outputs": [
    {
     "name": "stdout",
     "output_type": "stream",
     "text": [
      "+---------+----------------------+\n",
      "|InvoiceNo|collect_set(StockCode)|\n",
      "+---------+----------------------+\n",
      "|   536596|  [22900, 22114, 84...|\n",
      "|   536938|  [22112, 21931, 84...|\n",
      "|   537252|               [22197]|\n",
      "|   537691|  [22505, 46000R, 2...|\n",
      "|   538041|               [22145]|\n",
      "|   538184|  [22561, 22147, 21...|\n",
      "|   538517|  [22749, 21212, 22...|\n",
      "|   538879|  [21212, 22759, 22...|\n",
      "|   539275|  [22083, 22150, 22...|\n",
      "|   539630|  [22111, 22971, 22...|\n",
      "|   540499|  [22697, 22796, 21...|\n",
      "|   540540|  [22111, 22834, 22...|\n",
      "|   540976|  [22413, 21212, 22...|\n",
      "|   541432|  [22113, 22457, 21...|\n",
      "|   541518|  [21212, 22432, 22...|\n",
      "|   541783|  [22561, 22697, 22...|\n",
      "|   542026|  [22398, 22194, 22...|\n",
      "|   542375|  [22629, 21731, 22...|\n",
      "|   543641|  [22645, 75131, 22...|\n",
      "|   544303|  [84596L, 22931, 8...|\n",
      "+---------+----------------------+\n",
      "only showing top 20 rows\n",
      "\n"
     ]
    }
   ],
   "source": [
    "# Group dataset \n",
    "from pyspark.sql import functions as F\n",
    "\n",
    "gdf = df.groupby(\"InvoiceNo\").agg(F.collect_set(\"StockCode\"))\n",
    "\n",
    "# Show groupped dataset\n",
    "gdf.show()"
   ]
  },
  {
   "cell_type": "code",
   "execution_count": 6,
   "metadata": {},
   "outputs": [
    {
     "name": "stdout",
     "output_type": "stream",
     "text": [
      "+----------------+----+\n",
      "|           items|freq|\n",
      "+----------------+----+\n",
      "|         [22633]| 487|\n",
      "|         [23236]| 344|\n",
      "|        [85123A]|2246|\n",
      "|         [22423]|2172|\n",
      "| [22423, 85123A]| 355|\n",
      "|         [22667]| 486|\n",
      "|         [22579]| 343|\n",
      "|  [22579, 22578]| 282|\n",
      "|        [85099B]|2135|\n",
      "| [85099B, 22423]| 288|\n",
      "|[85099B, 85123A]| 404|\n",
      "|         [22620]| 486|\n",
      "|        [84536A]| 342|\n",
      "|         [71053]| 342|\n",
      "|         [47566]|1706|\n",
      "| [47566, 85099B]| 332|\n",
      "|  [47566, 22423]| 398|\n",
      "| [47566, 85123A]| 391|\n",
      "|         [85150]| 483|\n",
      "|         [20725]|1608|\n",
      "+----------------+----+\n",
      "only showing top 20 rows\n",
      "\n"
     ]
    }
   ],
   "source": [
    "# Frequent itemsets with Minimum Support = 0.01 and Minimum Confidence = 0.8\n",
    "from pyspark.ml.fpm import FPGrowth\n",
    "\n",
    "fpGrowth = FPGrowth(itemsCol=\"collect_set(StockCode)\", minSupport=0.01, minConfidence=0.8)\n",
    "model = fpGrowth.fit(gdf)\n",
    "model.freqItemsets.show()"
   ]
  },
  {
   "cell_type": "code",
   "execution_count": 7,
   "metadata": {},
   "outputs": [
    {
     "name": "stdout",
     "output_type": "stream",
     "text": [
      "+--------------------+----------+------------------+\n",
      "|          antecedent|consequent|        confidence|\n",
      "+--------------------+----------+------------------+\n",
      "|      [20723, 22355]|   [20724]|0.8038277511961722|\n",
      "|      [22356, 20719]|   [20724]|0.8211586901763224|\n",
      "|      [22356, 22355]|   [20724]|               0.8|\n",
      "|        [DOT, 22386]|  [85099B]|0.8028985507246377|\n",
      "|      [22698, 22697]|   [22699]|0.8524844720496895|\n",
      "|[20723, 20719, 22...|   [20724]|0.8585526315789473|\n",
      "|      [21931, 22386]|  [85099B]| 0.803088803088803|\n",
      "|[22411, 21931, 22...|  [85099B]| 0.867741935483871|\n",
      "|             [22579]|   [22578]|0.8221574344023324|\n",
      "|      [22698, 22423]|   [22697]|0.8606965174129353|\n",
      "|      [22698, 22423]|   [22699]|0.8383084577114428|\n",
      "|             [22698]|   [22697]|0.8029925187032418|\n",
      "|      [22411, 22386]|  [85099B]|0.8050847457627118|\n",
      "|      [20723, 22356]|   [20724]|0.8586387434554974|\n",
      "|      [21928, 22386]|  [85099B]|0.8333333333333334|\n",
      "|      [22698, 22699]|   [22697]|0.8941368078175895|\n",
      "|            [84596F]|  [84596B]|0.8027522935779816|\n",
      "|             [23172]|   [23170]|0.8662420382165605|\n",
      "|             [23172]|   [23171]|0.8980891719745223|\n",
      "|      [21086, 21080]|   [21094]|0.8952702702702703|\n",
      "+--------------------+----------+------------------+\n",
      "only showing top 20 rows\n",
      "\n"
     ]
    }
   ],
   "source": [
    "# Association rule with Minimum Support = 0.01 and Minimum Confidence = 0.8\n",
    "model.associationRules.show()"
   ]
  },
  {
   "cell_type": "code",
   "execution_count": 8,
   "metadata": {},
   "outputs": [
    {
     "name": "stdout",
     "output_type": "stream",
     "text": [
      "+---------+----------------------+----------+\n",
      "|InvoiceNo|collect_set(StockCode)|prediction|\n",
      "+---------+----------------------+----------+\n",
      "|   536596|  [22900, 22114, 84...|        []|\n",
      "|   536938|  [22112, 21931, 84...|  [85099B]|\n",
      "|   537252|               [22197]|        []|\n",
      "|   537691|  [22505, 46000R, 2...|        []|\n",
      "|   538041|               [22145]|        []|\n",
      "|   538184|  [22561, 22147, 21...|        []|\n",
      "|   538517|  [22749, 21212, 22...|        []|\n",
      "|   538879|  [21212, 22759, 22...|        []|\n",
      "|   539275|  [22083, 22150, 22...|        []|\n",
      "|   539630|  [22111, 22971, 22...|        []|\n",
      "|   540499|  [22697, 22796, 21...|        []|\n",
      "|   540540|  [22111, 22834, 22...|        []|\n",
      "|   540976|  [22413, 21212, 22...|        []|\n",
      "|   541432|  [22113, 22457, 21...|        []|\n",
      "|   541518|  [21212, 22432, 22...|        []|\n",
      "|   541783|  [22561, 22697, 22...|        []|\n",
      "|   542026|  [22398, 22194, 22...|        []|\n",
      "|   542375|  [22629, 21731, 22...|        []|\n",
      "|   543641|  [22645, 75131, 22...|        []|\n",
      "|   544303|  [84596L, 22931, 8...|        []|\n",
      "+---------+----------------------+----------+\n",
      "only showing top 20 rows\n",
      "\n"
     ]
    }
   ],
   "source": [
    "# Item prediction with Minimum Support = 0.01 and Minimum Confidence = 0.8\n",
    "model.transform(gdf).show()"
   ]
  },
  {
   "cell_type": "code",
   "execution_count": null,
   "metadata": {},
   "outputs": [],
   "source": []
  }
 ],
 "metadata": {
  "kernelspec": {
   "display_name": "Python 3",
   "language": "python",
   "name": "python3"
  },
  "language_info": {
   "codemirror_mode": {
    "name": "ipython",
    "version": 2
   },
   "file_extension": ".py",
   "mimetype": "text/x-python",
   "name": "python",
   "nbconvert_exporter": "python",
   "pygments_lexer": "ipython2",
   "version": "2.7.16"
  }
 },
 "nbformat": 4,
 "nbformat_minor": 2
}
