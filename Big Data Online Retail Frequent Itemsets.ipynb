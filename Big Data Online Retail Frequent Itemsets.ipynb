{
 "cells": [
  {
   "cell_type": "markdown",
   "metadata": {},
   "source": [
    "# Tugas Clustering \n",
    "\n",
    "##### Ilham Muhammad Misbahuddin\n",
    "##### 05111540000088\n",
    "\n",
    "## Kebutuhan :\n",
    "1. Operating System : Kali Linux 2019.1\n",
    "2. Apache Spark 2.3.3\n",
    "3. Scala 2.12.8\n",
    "4. Python 3.7.3rc1\n",
    "5. PySpark 2.4.0\n",
    "6. Findspark 1.3.0\n",
    "7. Jupyter 4.4.0\n",
    "\n",
    "## Deskripsi Dataset\n",
    "* Nama Dataset : [Online Retail](https://www.kaggle.com/puneetbhaya/online-retail)\n",
    "\n",
    "<table>\n",
    "    <thead>\n",
    "        <tr>\n",
    "            <th>Sumber Data</th>\n",
    "            <th>Jumlah Baris</th>\n",
    "            <th>Jumlah Colom</th>\n",
    "            <th>Ukuran</th>\n",
    "            <th>Format File</th>\n",
    "        </tr>\n",
    "    </thead>\n",
    "    <tbody>\n",
    "        <tr>\n",
    "            <td>Online Retail.xlsx</td>\n",
    "            <td>541909</td>\n",
    "            <td>8</td>\n",
    "            <td>23,7 MB</td>\n",
    "            <td>XLSX</td>\n",
    "        </tr>\n",
    "    </tbody>\n",
    "</table>\n",
    "    \n"
   ]
  },
  {
   "cell_type": "markdown",
   "metadata": {},
   "source": [
    "## Inisialisasi Apache Spark"
   ]
  },
  {
   "cell_type": "code",
   "execution_count": 1,
   "metadata": {},
   "outputs": [
    {
     "name": "stdout",
     "output_type": "stream",
     "text": [
      "<pyspark.sql.session.SparkSession object at 0x7f607b0e29d0>\n"
     ]
    }
   ],
   "source": [
    "import findspark\n",
    "findspark.init()\n",
    "\n",
    "from pyspark.sql import SparkSession\n",
    "\n",
    "# Create Spark Session\n",
    "spark = SparkSession.builder.appName(\"Big Data Frequent Itemsets\").getOrCreate()\n",
    "\n",
    "print(spark)"
   ]
  },
  {
   "cell_type": "markdown",
   "metadata": {},
   "source": [
    "## Load Dataset"
   ]
  },
  {
   "cell_type": "code",
   "execution_count": 2,
   "metadata": {},
   "outputs": [
    {
     "data": {
      "text/plain": [
       "pyspark.sql.dataframe.DataFrame"
      ]
     },
     "execution_count": 2,
     "metadata": {},
     "output_type": "execute_result"
    }
   ],
   "source": [
    "# Load excel\n",
    "import pandas as pd\n",
    "from pyspark.sql.types import *\n",
    "\n",
    "df_excel = pd.read_excel(\"/root/Lecture/BIGDATA/datasets/Online Retail.xlsx\")\n",
    "\n",
    "header = StructType([ StructField(\"InvoiceNo\", StringType(), True)\\\n",
    "                       ,StructField(\"StockCode\", StringType(), True)\\\n",
    "                       ,StructField(\"Description\", StringType(), True)\\\n",
    "                       ,StructField(\"Quantity\", IntegerType(), True)\\\n",
    "                       ,StructField(\"InvoiceDate\", StringType(), True)\\\n",
    "                       ,StructField(\"UnitPrice\", DoubleType(), True)\\\n",
    "                       ,StructField(\"CustomerID\", StringType(), True)\\\n",
    "                       ,StructField(\"Country\", StringType(), True)])\n",
    "\n",
    "df = spark.createDataFrame(df_excel, schema=header)\n",
    "type(df)"
   ]
  },
  {
   "cell_type": "code",
   "execution_count": 3,
   "metadata": {},
   "outputs": [
    {
     "data": {
      "text/plain": [
       "541909"
      ]
     },
     "execution_count": 3,
     "metadata": {},
     "output_type": "execute_result"
    }
   ],
   "source": [
    "# Count dataset Online Retail\n",
    "df.count()"
   ]
  },
  {
   "cell_type": "code",
   "execution_count": 4,
   "metadata": {
    "scrolled": true
   },
   "outputs": [
    {
     "name": "stdout",
     "output_type": "stream",
     "text": [
      "+---------+---------+--------------------+--------+--------------------+---------+----------+--------------+\n",
      "|InvoiceNo|StockCode|         Description|Quantity|         InvoiceDate|UnitPrice|CustomerID|       Country|\n",
      "+---------+---------+--------------------+--------+--------------------+---------+----------+--------------+\n",
      "|   536365|   85123A|WHITE HANGING HEA...|       6|java.util.Gregori...|     2.55|   17850.0|United Kingdom|\n",
      "|   536365|    71053| WHITE METAL LANTERN|       6|java.util.Gregori...|     3.39|   17850.0|United Kingdom|\n",
      "|   536365|   84406B|CREAM CUPID HEART...|       8|java.util.Gregori...|     2.75|   17850.0|United Kingdom|\n",
      "|   536365|   84029G|KNITTED UNION FLA...|       6|java.util.Gregori...|     3.39|   17850.0|United Kingdom|\n",
      "|   536365|   84029E|RED WOOLLY HOTTIE...|       6|java.util.Gregori...|     3.39|   17850.0|United Kingdom|\n",
      "|   536365|    22752|SET 7 BABUSHKA NE...|       2|java.util.Gregori...|     7.65|   17850.0|United Kingdom|\n",
      "|   536365|    21730|GLASS STAR FROSTE...|       6|java.util.Gregori...|     4.25|   17850.0|United Kingdom|\n",
      "|   536366|    22633|HAND WARMER UNION...|       6|java.util.Gregori...|     1.85|   17850.0|United Kingdom|\n",
      "|   536366|    22632|HAND WARMER RED P...|       6|java.util.Gregori...|     1.85|   17850.0|United Kingdom|\n",
      "|   536367|    84879|ASSORTED COLOUR B...|      32|java.util.Gregori...|     1.69|   13047.0|United Kingdom|\n",
      "|   536367|    22745|POPPY'S PLAYHOUSE...|       6|java.util.Gregori...|      2.1|   13047.0|United Kingdom|\n",
      "|   536367|    22748|POPPY'S PLAYHOUSE...|       6|java.util.Gregori...|      2.1|   13047.0|United Kingdom|\n",
      "|   536367|    22749|FELTCRAFT PRINCES...|       8|java.util.Gregori...|     3.75|   13047.0|United Kingdom|\n",
      "|   536367|    22310|IVORY KNITTED MUG...|       6|java.util.Gregori...|     1.65|   13047.0|United Kingdom|\n",
      "|   536367|    84969|BOX OF 6 ASSORTED...|       6|java.util.Gregori...|     4.25|   13047.0|United Kingdom|\n",
      "|   536367|    22623|BOX OF VINTAGE JI...|       3|java.util.Gregori...|     4.95|   13047.0|United Kingdom|\n",
      "|   536367|    22622|BOX OF VINTAGE AL...|       2|java.util.Gregori...|     9.95|   13047.0|United Kingdom|\n",
      "|   536367|    21754|HOME BUILDING BLO...|       3|java.util.Gregori...|     5.95|   13047.0|United Kingdom|\n",
      "|   536367|    21755|LOVE BUILDING BLO...|       3|java.util.Gregori...|     5.95|   13047.0|United Kingdom|\n",
      "|   536367|    21777|RECIPE BOX WITH M...|       4|java.util.Gregori...|     7.95|   13047.0|United Kingdom|\n",
      "+---------+---------+--------------------+--------+--------------------+---------+----------+--------------+\n",
      "only showing top 20 rows\n",
      "\n"
     ]
    }
   ],
   "source": [
    "# Show dataset Online Retail\n",
    "df.show()"
   ]
  },
  {
   "cell_type": "code",
   "execution_count": 5,
   "metadata": {
    "scrolled": true
   },
   "outputs": [
    {
     "name": "stdout",
     "output_type": "stream",
     "text": [
      "+---------+---------+--------------------+\n",
      "|InvoiceNo|StockCode|         Description|\n",
      "+---------+---------+--------------------+\n",
      "|   536365|   85123A|WHITE HANGING HEA...|\n",
      "|   536365|    71053| WHITE METAL LANTERN|\n",
      "|   536365|   84406B|CREAM CUPID HEART...|\n",
      "|   536365|   84029G|KNITTED UNION FLA...|\n",
      "|   536365|   84029E|RED WOOLLY HOTTIE...|\n",
      "|   536365|    22752|SET 7 BABUSHKA NE...|\n",
      "|   536365|    21730|GLASS STAR FROSTE...|\n",
      "|   536366|    22633|HAND WARMER UNION...|\n",
      "|   536366|    22632|HAND WARMER RED P...|\n",
      "|   536367|    84879|ASSORTED COLOUR B...|\n",
      "|   536367|    22745|POPPY'S PLAYHOUSE...|\n",
      "|   536367|    22748|POPPY'S PLAYHOUSE...|\n",
      "|   536367|    22749|FELTCRAFT PRINCES...|\n",
      "|   536367|    22310|IVORY KNITTED MUG...|\n",
      "|   536367|    84969|BOX OF 6 ASSORTED...|\n",
      "|   536367|    22623|BOX OF VINTAGE JI...|\n",
      "|   536367|    22622|BOX OF VINTAGE AL...|\n",
      "|   536367|    21754|HOME BUILDING BLO...|\n",
      "|   536367|    21755|LOVE BUILDING BLO...|\n",
      "|   536367|    21777|RECIPE BOX WITH M...|\n",
      "+---------+---------+--------------------+\n",
      "only showing top 20 rows\n",
      "\n"
     ]
    }
   ],
   "source": [
    "# Drop some column\n",
    "dropped_column = ['Quantity', 'InvoiceDate', 'UnitPrice', 'Country', 'CustomerID']\n",
    "df = df.drop(*dropped_column)\n",
    "\n",
    "# Show dataset after some column dropped\n",
    "df.show()"
   ]
  },
  {
   "cell_type": "code",
   "execution_count": 6,
   "metadata": {},
   "outputs": [
    {
     "name": "stdout",
     "output_type": "stream",
     "text": [
      "+---------+----------------------+--------------------+\n",
      "|InvoiceNo|collect_set(StockCode)|      distinct_items|\n",
      "+---------+----------------------+--------------------+\n",
      "|   536596|  [22900, 22114, 84...|[21624, 22114, 21...|\n",
      "|   536938|  [22112, 21931, 84...|[84997A, 21479, 8...|\n",
      "|   537252|               [22197]|             [22197]|\n",
      "|   537691|  [22505, 46000R, 2...|[22505, 22666, 84...|\n",
      "|   538041|               [22145]|             [22145]|\n",
      "|   538184|  [22561, 22147, 21...|[22560, 22561, 21...|\n",
      "|   538517|  [22749, 21212, 22...|[22562, 22548, 22...|\n",
      "|   538879|  [21212, 22759, 22...|[22593, 22453, 21...|\n",
      "|   539275|  [22083, 22150, 22...|[21914, 21915, 22...|\n",
      "|   539630|  [22111, 22971, 22...|[21484, 21485, 22...|\n",
      "|   540499|  [22697, 22796, 21...|[22625, 22624, 22...|\n",
      "|   540540|  [22111, 22834, 22...|[22443, 22442, 22...|\n",
      "|   540976|  [22413, 21212, 22...|[21908, 22115, 22...|\n",
      "|   541432|  [22113, 22457, 21...|[21485, 22113, 22...|\n",
      "|   541518|  [21212, 22432, 22...|[22504, 22378, 84...|\n",
      "|   541783|  [22561, 22697, 22...|[22777, 22776, 22...|\n",
      "|   542026|  [22398, 22194, 22...|[21754, 22192, 22...|\n",
      "|   542375|  [22629, 21731, 22...|[22634, 22629, 21...|\n",
      "|   543641|  [22645, 75131, 22...|[22371, 75131, 21...|\n",
      "|   544303|  [84596L, 22931, 8...|[84596E, 21354, 8...|\n",
      "+---------+----------------------+--------------------+\n",
      "only showing top 20 rows\n",
      "\n"
     ]
    }
   ],
   "source": [
    "# Group dataset \n",
    "from pyspark.sql import functions as F\n",
    "from pyspark.sql.functions import udf\n",
    "from pyspark.sql.types import ArrayType, StringType\n",
    "\n",
    "distinct_items= udf(lambda row: list(set(row)), ArrayType(StringType()))\n",
    "df_group = df.groupby(\"InvoiceNo\").agg(F.collect_set(\"StockCode\"))\n",
    "df_group = df_group.withColumn(\"distinct_items\", distinct_items(\"collect_set(StockCode)\"))\n",
    "\n",
    "# Show groupped dataset\n",
    "df_group.show()"
   ]
  },
  {
   "cell_type": "code",
   "execution_count": 7,
   "metadata": {},
   "outputs": [
    {
     "name": "stdout",
     "output_type": "stream",
     "text": [
      "+---------+---------+--------------------+\n",
      "|InvoiceNo|StockCode|         Description|\n",
      "+---------+---------+--------------------+\n",
      "|   536365|   85123A|WHITE HANGING HEA...|\n",
      "|   536365|    71053| WHITE METAL LANTERN|\n",
      "|   536365|   84406B|CREAM CUPID HEART...|\n",
      "|   536365|   84029G|KNITTED UNION FLA...|\n",
      "|   536365|   84029E|RED WOOLLY HOTTIE...|\n",
      "|   536365|    22752|SET 7 BABUSHKA NE...|\n",
      "|   536365|    21730|GLASS STAR FROSTE...|\n",
      "|   536366|    22633|HAND WARMER UNION...|\n",
      "|   536366|    22632|HAND WARMER RED P...|\n",
      "|   536367|    84879|ASSORTED COLOUR B...|\n",
      "|   536367|    22745|POPPY'S PLAYHOUSE...|\n",
      "|   536367|    22748|POPPY'S PLAYHOUSE...|\n",
      "|   536367|    22749|FELTCRAFT PRINCES...|\n",
      "|   536367|    22310|IVORY KNITTED MUG...|\n",
      "|   536367|    84969|BOX OF 6 ASSORTED...|\n",
      "|   536367|    22623|BOX OF VINTAGE JI...|\n",
      "|   536367|    22622|BOX OF VINTAGE AL...|\n",
      "|   536367|    21754|HOME BUILDING BLO...|\n",
      "|   536367|    21755|LOVE BUILDING BLO...|\n",
      "|   536367|    21777|RECIPE BOX WITH M...|\n",
      "+---------+---------+--------------------+\n",
      "only showing top 20 rows\n",
      "\n"
     ]
    }
   ],
   "source": [
    "# Select column to be saved to check the items\n",
    "df_check = df.selectExpr(['InvoiceNo', 'StockCode', 'Description'])\n",
    "\n",
    "df_check.show()"
   ]
  },
  {
   "cell_type": "markdown",
   "metadata": {},
   "source": [
    "## Prediksi Frequent Itemsets"
   ]
  },
  {
   "cell_type": "code",
   "execution_count": 8,
   "metadata": {},
   "outputs": [
    {
     "name": "stdout",
     "output_type": "stream",
     "text": [
      "+--------+----+\n",
      "|   items|freq|\n",
      "+--------+----+\n",
      "|[85123A]|2246|\n",
      "| [22423]|2172|\n",
      "|[85099B]|2135|\n",
      "| [47566]|1706|\n",
      "| [20725]|1608|\n",
      "| [84879]|1468|\n",
      "| [22720]|1462|\n",
      "| [22197]|1442|\n",
      "| [21212]|1334|\n",
      "| [22383]|1306|\n",
      "| [20727]|1295|\n",
      "+--------+----+\n",
      "\n"
     ]
    },
    {
     "data": {
      "text/plain": [
       "11"
      ]
     },
     "execution_count": 8,
     "metadata": {},
     "output_type": "execute_result"
    }
   ],
   "source": [
    "# Frequent itemsets with Minimum Support = 0.05 and Minimum Confidence = 0.8\n",
    "from pyspark.ml.fpm import FPGrowth\n",
    "\n",
    "fpGrowth = FPGrowth(itemsCol=\"collect_set(StockCode)\", minSupport=0.05, minConfidence=0.8)\n",
    "model = fpGrowth.fit(df_group)\n",
    "model.freqItemsets.show()\n",
    "model.freqItemsets.count()"
   ]
  },
  {
   "cell_type": "code",
   "execution_count": 9,
   "metadata": {},
   "outputs": [
    {
     "name": "stdout",
     "output_type": "stream",
     "text": [
      "+----------+----------+----------+\n",
      "|antecedent|consequent|confidence|\n",
      "+----------+----------+----------+\n",
      "+----------+----------+----------+\n",
      "\n"
     ]
    }
   ],
   "source": [
    "# Association rule with Minimum Support = 0.05 and Minimum Confidence = 0.8\n",
    "model.associationRules.show()"
   ]
  },
  {
   "cell_type": "code",
   "execution_count": 10,
   "metadata": {
    "scrolled": true
   },
   "outputs": [
    {
     "name": "stdout",
     "output_type": "stream",
     "text": [
      "+---------+----------------------+--------------------+----------+\n",
      "|InvoiceNo|collect_set(StockCode)|      distinct_items|prediction|\n",
      "+---------+----------------------+--------------------+----------+\n",
      "|   536596|  [22900, 22114, 84...|[21624, 22114, 21...|        []|\n",
      "|   536938|  [22112, 21931, 84...|[84997A, 21479, 8...|        []|\n",
      "|   537252|               [22197]|             [22197]|        []|\n",
      "|   537691|  [22505, 46000R, 2...|[22505, 22666, 84...|        []|\n",
      "|   538041|               [22145]|             [22145]|        []|\n",
      "|   538184|  [22561, 22147, 21...|[22560, 22561, 21...|        []|\n",
      "|   538517|  [22749, 21212, 22...|[22562, 22548, 22...|        []|\n",
      "|   538879|  [21212, 22759, 22...|[22593, 22453, 21...|        []|\n",
      "|   539275|  [22083, 22150, 22...|[21914, 21915, 22...|        []|\n",
      "|   539630|  [22111, 22971, 22...|[21484, 21485, 22...|        []|\n",
      "|   540499|  [22697, 22796, 21...|[22625, 22624, 22...|        []|\n",
      "|   540540|  [22111, 22834, 22...|[22443, 22442, 22...|        []|\n",
      "|   540976|  [22413, 21212, 22...|[21908, 22115, 22...|        []|\n",
      "|   541432|  [22113, 22457, 21...|[21485, 22113, 22...|        []|\n",
      "|   541518|  [21212, 22432, 22...|[22504, 22378, 84...|        []|\n",
      "|   541783|  [22561, 22697, 22...|[22777, 22776, 22...|        []|\n",
      "|   542026|  [22398, 22194, 22...|[21754, 22192, 22...|        []|\n",
      "|   542375|  [22629, 21731, 22...|[22634, 22629, 21...|        []|\n",
      "|   543641|  [22645, 75131, 22...|[22371, 75131, 21...|        []|\n",
      "|   544303|  [84596L, 22931, 8...|[84596E, 21354, 8...|        []|\n",
      "+---------+----------------------+--------------------+----------+\n",
      "only showing top 20 rows\n",
      "\n"
     ]
    }
   ],
   "source": [
    "# Item prediction with Minimum Support = 0.05 and Minimum Confidence = 0.8\n",
    "model.transform(df_group).show()"
   ]
  },
  {
   "cell_type": "code",
   "execution_count": 11,
   "metadata": {},
   "outputs": [
    {
     "name": "stdout",
     "output_type": "stream",
     "text": [
      "+---------------+----+\n",
      "|          items|freq|\n",
      "+---------------+----+\n",
      "|       [85123A]|2246|\n",
      "|        [22423]|2172|\n",
      "|       [85099B]|2135|\n",
      "|        [47566]|1706|\n",
      "|        [20725]|1608|\n",
      "|        [84879]|1468|\n",
      "|        [22720]|1462|\n",
      "|        [22197]|1442|\n",
      "|        [21212]|1334|\n",
      "|        [22383]|1306|\n",
      "|        [20727]|1295|\n",
      "|        [22457]|1266|\n",
      "|         [POST]|1254|\n",
      "|        [23203]|1249|\n",
      "|        [22386]|1231|\n",
      "|[22386, 85099B]| 833|\n",
      "|        [22960]|1220|\n",
      "|        [22469]|1214|\n",
      "|        [21931]|1201|\n",
      "|        [22411]|1187|\n",
      "+---------------+----+\n",
      "only showing top 20 rows\n",
      "\n"
     ]
    },
    {
     "data": {
      "text/plain": [
       "80"
      ]
     },
     "execution_count": 11,
     "metadata": {},
     "output_type": "execute_result"
    }
   ],
   "source": [
    "# Frequent itemsets with Minimum Support = 0.03 and Minimum Confidence = 0.7\n",
    "fpGrowth = FPGrowth(itemsCol=\"collect_set(StockCode)\", minSupport=0.03, minConfidence=0.7)\n",
    "model2 = fpGrowth.fit(df_group)\n",
    "model2.freqItemsets.show()\n",
    "model2.freqItemsets.count()"
   ]
  },
  {
   "cell_type": "code",
   "execution_count": 12,
   "metadata": {},
   "outputs": [
    {
     "name": "stdout",
     "output_type": "stream",
     "text": [
      "+----------+----------+------------------+\n",
      "|antecedent|consequent|        confidence|\n",
      "+----------+----------+------------------+\n",
      "|   [22699]|   [22697]|               0.7|\n",
      "|   [22697]|   [22699]|0.7417218543046358|\n",
      "+----------+----------+------------------+\n",
      "\n"
     ]
    }
   ],
   "source": [
    "# Association rule with Minimum Support = 0.03 and Minimum Confidence = 0.7\n",
    "model2.associationRules.show()"
   ]
  },
  {
   "cell_type": "code",
   "execution_count": 13,
   "metadata": {},
   "outputs": [
    {
     "name": "stdout",
     "output_type": "stream",
     "text": [
      "+---------+----------------------+--------------------+----------+\n",
      "|InvoiceNo|collect_set(StockCode)|      distinct_items|prediction|\n",
      "+---------+----------------------+--------------------+----------+\n",
      "|   536596|  [22900, 22114, 84...|[21624, 22114, 21...|        []|\n",
      "|   536938|  [22112, 21931, 84...|[84997A, 21479, 8...|        []|\n",
      "|   537252|               [22197]|             [22197]|        []|\n",
      "|   537691|  [22505, 46000R, 2...|[22505, 22666, 84...|        []|\n",
      "|   538041|               [22145]|             [22145]|        []|\n",
      "|   538184|  [22561, 22147, 21...|[22560, 22561, 21...|        []|\n",
      "|   538517|  [22749, 21212, 22...|[22562, 22548, 22...|        []|\n",
      "|   538879|  [21212, 22759, 22...|[22593, 22453, 21...|        []|\n",
      "|   539275|  [22083, 22150, 22...|[21914, 21915, 22...|        []|\n",
      "|   539630|  [22111, 22971, 22...|[21484, 21485, 22...|        []|\n",
      "|   540499|  [22697, 22796, 21...|[22625, 22624, 22...|        []|\n",
      "|   540540|  [22111, 22834, 22...|[22443, 22442, 22...|        []|\n",
      "|   540976|  [22413, 21212, 22...|[21908, 22115, 22...|        []|\n",
      "|   541432|  [22113, 22457, 21...|[21485, 22113, 22...|        []|\n",
      "|   541518|  [21212, 22432, 22...|[22504, 22378, 84...|        []|\n",
      "|   541783|  [22561, 22697, 22...|[22777, 22776, 22...|        []|\n",
      "|   542026|  [22398, 22194, 22...|[21754, 22192, 22...|        []|\n",
      "|   542375|  [22629, 21731, 22...|[22634, 22629, 21...|        []|\n",
      "|   543641|  [22645, 75131, 22...|[22371, 75131, 21...|        []|\n",
      "|   544303|  [84596L, 22931, 8...|[84596E, 21354, 8...|        []|\n",
      "+---------+----------------------+--------------------+----------+\n",
      "only showing top 20 rows\n",
      "\n"
     ]
    }
   ],
   "source": [
    "# Item prediction with Minimum Support = 0.03 and Minimum Confidence = 0.7\n",
    "model2.transform(df_group).show()"
   ]
  },
  {
   "cell_type": "code",
   "execution_count": 14,
   "metadata": {},
   "outputs": [
    {
     "name": "stdout",
     "output_type": "stream",
     "text": [
      "+----------------+----+\n",
      "|           items|freq|\n",
      "+----------------+----+\n",
      "|         [22633]| 487|\n",
      "|         [23236]| 344|\n",
      "|        [85123A]|2246|\n",
      "|         [22423]|2172|\n",
      "| [22423, 85123A]| 355|\n",
      "|         [22667]| 486|\n",
      "|         [22579]| 343|\n",
      "|  [22579, 22578]| 282|\n",
      "|        [85099B]|2135|\n",
      "| [85099B, 22423]| 288|\n",
      "|[85099B, 85123A]| 404|\n",
      "|         [22620]| 486|\n",
      "|        [84536A]| 342|\n",
      "|         [71053]| 342|\n",
      "|         [47566]|1706|\n",
      "| [47566, 85099B]| 332|\n",
      "|  [47566, 22423]| 398|\n",
      "| [47566, 85123A]| 391|\n",
      "|         [85150]| 483|\n",
      "|         [20725]|1608|\n",
      "+----------------+----+\n",
      "only showing top 20 rows\n",
      "\n"
     ]
    },
    {
     "data": {
      "text/plain": [
       "1087"
      ]
     },
     "execution_count": 14,
     "metadata": {},
     "output_type": "execute_result"
    }
   ],
   "source": [
    "# Frequent itemsets with Minimum Support = 0.01 and Minimum Confidence = 0.6\n",
    "fpGrowth = FPGrowth(itemsCol=\"collect_set(StockCode)\", minSupport=0.01, minConfidence=0.6)\n",
    "model3 = fpGrowth.fit(df_group)\n",
    "model3.freqItemsets.show()\n",
    "model3.freqItemsets.count()"
   ]
  },
  {
   "cell_type": "code",
   "execution_count": null,
   "metadata": {},
   "outputs": [],
   "source": [
    "# Association rule with Minimum Support = 0.01 and Minimum Confidence = 0.6\n",
    "model3.associationRules.show()"
   ]
  },
  {
   "cell_type": "code",
   "execution_count": null,
   "metadata": {},
   "outputs": [],
   "source": [
    "# Item prediction with Minimum Support = 0.01 and Minimum Confidence = 0.6\n",
    "model3.transform(df_group).show()"
   ]
  },
  {
   "cell_type": "code",
   "execution_count": null,
   "metadata": {},
   "outputs": [],
   "source": [
    "model3.transform(df_group).printSchema()"
   ]
  },
  {
   "cell_type": "code",
   "execution_count": null,
   "metadata": {},
   "outputs": [],
   "source": [
    "# Get 1 example of items and put it into Data Frame\n",
    "df_compare=spark.createDataFrame([('0',['22697'])],['id','collect_set(StockCode)'])\n",
    "\n",
    "df_compare.show()"
   ]
  },
  {
   "cell_type": "code",
   "execution_count": null,
   "metadata": {},
   "outputs": [],
   "source": [
    "# Find the closest prediction for item 22697\n",
    "model3.transform(df_compare).show()"
   ]
  },
  {
   "cell_type": "code",
   "execution_count": null,
   "metadata": {},
   "outputs": [],
   "source": [
    "df_check.createOrReplaceTempView(\"Online_Retail\")"
   ]
  },
  {
   "cell_type": "code",
   "execution_count": null,
   "metadata": {},
   "outputs": [],
   "source": [
    "# Find the item with StockCode of '22697'\n",
    "query1 = spark.sql(\"SELECT DISTINCT Description FROM Online_Retail WHERE StockCode = '22697'\")\n",
    "query1.show()"
   ]
  },
  {
   "cell_type": "code",
   "execution_count": null,
   "metadata": {},
   "outputs": [],
   "source": [
    "# Find the item with StockCode of '22699'\n",
    "query2 = spark.sql(\"SELECT DISTINCT Description FROM Online_Retail WHERE StockCode = '22699'\")\n",
    "query2.show()"
   ]
  },
  {
   "cell_type": "code",
   "execution_count": null,
   "metadata": {},
   "outputs": [],
   "source": [
    "# Find the item with StockCode of '22698'\n",
    "query3 = spark.sql(\"SELECT DISTINCT Description FROM Online_Retail WHERE StockCode = '22698'\")\n",
    "query3.show()"
   ]
  }
 ],
 "metadata": {
  "kernelspec": {
   "display_name": "Python 3",
   "language": "python",
   "name": "python3"
  },
  "language_info": {
   "codemirror_mode": {
    "name": "ipython",
    "version": 2
   },
   "file_extension": ".py",
   "mimetype": "text/x-python",
   "name": "python",
   "nbconvert_exporter": "python",
   "pygments_lexer": "ipython2",
   "version": "2.7.16"
  }
 },
 "nbformat": 4,
 "nbformat_minor": 2
}
