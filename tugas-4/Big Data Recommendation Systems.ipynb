{
 "cells": [
  {
   "cell_type": "code",
   "execution_count": 1,
   "metadata": {},
   "outputs": [
    {
     "name": "stdout",
     "output_type": "stream",
     "text": [
      "<pyspark.sql.session.SparkSession object at 0x7fe6ad850750>\n"
     ]
    }
   ],
   "source": [
    "import findspark\n",
    "findspark.init()\n",
    "\n",
    "from pyspark.sql import SparkSession\n",
    "\n",
    "# Create Spark Session\n",
    "spark = SparkSession.builder.appName(\"Big Data Recommendation Systems\").getOrCreate()\n",
    "\n",
    "print(spark)"
   ]
  },
  {
   "cell_type": "code",
   "execution_count": 2,
   "metadata": {
    "scrolled": false
   },
   "outputs": [
    {
     "name": "stdout",
     "output_type": "stream",
     "text": [
      "root\n",
      " |-- userId: integer (nullable = true)\n",
      " |-- movieId: integer (nullable = true)\n",
      " |-- rating: double (nullable = true)\n",
      " |-- timestamp: integer (nullable = true)\n",
      "\n"
     ]
    }
   ],
   "source": [
    "# Load CSV\n",
    "df = spark.read.csv(\"/root/Lecture/BIGDATA/datasets/ratings.csv\", header=True, inferSchema=True)\n",
    "\n",
    "df.printSchema()"
   ]
  },
  {
   "cell_type": "code",
   "execution_count": 3,
   "metadata": {},
   "outputs": [
    {
     "data": {
      "text/plain": [
       "264505"
      ]
     },
     "execution_count": 3,
     "metadata": {},
     "output_type": "execute_result"
    }
   ],
   "source": [
    "# Count dataset Amazon Fine Food Reviews\n",
    "df.count()"
   ]
  },
  {
   "cell_type": "code",
   "execution_count": 4,
   "metadata": {
    "scrolled": true
   },
   "outputs": [
    {
     "name": "stdout",
     "output_type": "stream",
     "text": [
      "+------+-------+------+----------+\n",
      "|userId|movieId|rating| timestamp|\n",
      "+------+-------+------+----------+\n",
      "| 12882|      1|   4.0|1147195252|\n",
      "| 12882|     32|   3.5|1147195307|\n",
      "| 12882|     47|   5.0|1147195343|\n",
      "| 12882|     50|   5.0|1147185499|\n",
      "| 12882|    110|   4.5|1147195239|\n",
      "| 12882|    150|   3.5|1147195267|\n",
      "| 12882|    158|   2.0|1147185180|\n",
      "| 12882|    165|   4.0|1147195325|\n",
      "| 12882|    260|   4.0|1147195260|\n",
      "| 12882|    296|   5.0|1147195153|\n",
      "| 12882|    318|   5.0|1147195162|\n",
      "| 12882|    356|   5.0|1147185487|\n",
      "| 12882|    364|   3.5|1147195899|\n",
      "| 12882|    380|   2.5|1147195276|\n",
      "| 12882|    457|   4.0|1147195271|\n",
      "| 12882|    480|   3.5|1147185483|\n",
      "| 12882|    515|   3.5|1147185231|\n",
      "| 12882|    527|   4.0|1147195296|\n",
      "| 12882|    552|   2.5|1147185190|\n",
      "| 12882|    588|   3.0|1147195313|\n",
      "+------+-------+------+----------+\n",
      "only showing top 20 rows\n",
      "\n"
     ]
    }
   ],
   "source": [
    "# Show dataset Amazon Fine Food Reviews\n",
    "df.show()"
   ]
  },
  {
   "cell_type": "code",
   "execution_count": 5,
   "metadata": {
    "scrolled": true
   },
   "outputs": [],
   "source": [
    "from pyspark.ml.evaluation import RegressionEvaluator\n",
    "from pyspark.ml.recommendation import ALS\n",
    "from pyspark.sql import Row\n",
    "\n",
    "(training, test) = df.randomSplit([0.8, 0.2])\n",
    "\n",
    "# Build the recommendation model using ALS on the training data\n",
    "# Note we set cold start strategy to 'drop' to ensure we don't get NaN evaluation metrics\n",
    "als = ALS(maxIter=5, regParam=0.01, userCol=\"userId\", itemCol=\"movieId\", ratingCol=\"rating\",\n",
    "          coldStartStrategy=\"drop\")\n",
    "model = als.fit(training)"
   ]
  },
  {
   "cell_type": "code",
   "execution_count": 6,
   "metadata": {},
   "outputs": [
    {
     "name": "stdout",
     "output_type": "stream",
     "text": [
      "Root-mean-square error = 0.827770749489\n"
     ]
    }
   ],
   "source": [
    "# Evaluate the model by computing the RMSE on the test data\n",
    "predictions = model.transform(test)\n",
    "evaluator = RegressionEvaluator(metricName=\"rmse\", labelCol=\"rating\",\n",
    "                                predictionCol=\"prediction\")\n",
    "rmse = evaluator.evaluate(predictions)\n",
    "print(\"Root-mean-square error = \" + str(rmse))"
   ]
  },
  {
   "cell_type": "code",
   "execution_count": 7,
   "metadata": {
    "scrolled": false
   },
   "outputs": [],
   "source": [
    "# Generate top 10 movie recommendations for each user\n",
    "userRecs = model.recommendForAllUsers(10)\n",
    "# Generate top 10 user recommendations for each movie\n",
    "movieRecs = model.recommendForAllItems(10)"
   ]
  },
  {
   "cell_type": "code",
   "execution_count": 8,
   "metadata": {},
   "outputs": [
    {
     "name": "stdout",
     "output_type": "stream",
     "text": [
      "+------+--------------------+\n",
      "|userId|     recommendations|\n",
      "+------+--------------------+\n",
      "|  7880|[[1177, 6.147299]...|\n",
      "| 27484|[[378, 5.817801],...|\n",
      "|104508|[[3185, 5.1842403...|\n",
      "| 34239|[[351, 13.639605]...|\n",
      "|122710|[[82, 7.5867014],...|\n",
      "|  8932|[[1300, 6.5434594...|\n",
      "| 76164|[[928, 3.9772882]...|\n",
      "| 68037|[[1914, 5.2823014...|\n",
      "| 47573|[[766, 8.722683],...|\n",
      "| 21058|[[334, 5.2173743]...|\n",
      "| 48838|[[2859, 6.8364472...|\n",
      "| 54989|[[971, 5.923529],...|\n",
      "|108159|[[1238, 4.6789556...|\n",
      "| 24200|[[1949, 5.2000747...|\n",
      "| 91973|[[766, 5.9134126]...|\n",
      "| 34494|[[1007, 4.6637163...|\n",
      "| 26480|[[2859, 4.795166]...|\n",
      "|128111|[[3185, 5.111826]...|\n",
      "|  6937|[[378, 10.5386095...|\n",
      "|109429|[[2093, 5.940619]...|\n",
      "+------+--------------------+\n",
      "only showing top 20 rows\n",
      "\n"
     ]
    }
   ],
   "source": [
    "userRecs.show()"
   ]
  },
  {
   "cell_type": "code",
   "execution_count": 9,
   "metadata": {},
   "outputs": [
    {
     "name": "stdout",
     "output_type": "stream",
     "text": [
      "+-------+--------------------+\n",
      "|movieId|     recommendations|\n",
      "+-------+--------------------+\n",
      "|   1580|[[111036, 5.15001...|\n",
      "|   6620|[[83479, 6.344374...|\n",
      "|  54190|[[109970, 7.36779...|\n",
      "|    471|[[27735, 5.889134...|\n",
      "|   1591|[[109734, 7.21393...|\n",
      "|   1342|[[68836, 8.893948...|\n",
      "|   2122|[[35823, 12.38314...|\n",
      "|   2142|[[35823, 7.708952...|\n",
      "|  44022|[[34239, 6.562566...|\n",
      "|   1645|[[95290, 6.434094...|\n",
      "|   3175|[[27735, 6.521919...|\n",
      "|   2366|[[27735, 8.370095...|\n",
      "|   3997|[[89274, 7.726284...|\n",
      "|   1088|[[50019, 7.030873...|\n",
      "|   1238|[[43649, 11.01845...|\n",
      "|   8638|[[43649, 6.760278...|\n",
      "|   1959|[[95290, 9.444898...|\n",
      "|   4519|[[8335, 7.0141745...|\n",
      "|    540|[[34239, 6.646393...|\n",
      "|   2580|[[8527, 5.7034883...|\n",
      "+-------+--------------------+\n",
      "only showing top 20 rows\n",
      "\n"
     ]
    }
   ],
   "source": [
    "movieRecs.show()"
   ]
  },
  {
   "cell_type": "code",
   "execution_count": null,
   "metadata": {},
   "outputs": [],
   "source": []
  }
 ],
 "metadata": {
  "kernelspec": {
   "display_name": "Python 3",
   "language": "python",
   "name": "python3"
  },
  "language_info": {
   "codemirror_mode": {
    "name": "ipython",
    "version": 2
   },
   "file_extension": ".py",
   "mimetype": "text/x-python",
   "name": "python",
   "nbconvert_exporter": "python",
   "pygments_lexer": "ipython2",
   "version": "2.7.16"
  }
 },
 "nbformat": 4,
 "nbformat_minor": 2
}
